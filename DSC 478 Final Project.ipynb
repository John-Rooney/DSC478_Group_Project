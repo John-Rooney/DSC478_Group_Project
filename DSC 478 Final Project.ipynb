{
 "cells": [
  {
   "cell_type": "markdown",
   "metadata": {},
   "source": [
    "# Hotel Booking Demand"
   ]
  },
  {
   "cell_type": "markdown",
   "metadata": {},
   "source": [
    "## By: John Rooney, Michael Sebring, and Jonathan Lynch"
   ]
  },
  {
   "cell_type": "markdown",
   "metadata": {},
   "source": [
    "__Data set description:__"
   ]
  },
  {
   "cell_type": "markdown",
   "metadata": {},
   "source": [
    "This data set contains booking information from two different hotels, a resort hotel and a city hotel located in Portugal. The resort hotel is located in the region of Algarve and the city hotel is located in the city of Lisbon. The data includes information such as when the booking was made, the length of stay, the number of adults, children, and/or babies, the number of available parking spaces, customer type, whether the booking was cancelled, guest country of origin, average daily rate, etc.  All of the bookings were due to arrive between July 1, 2015 and August 31, 2017.  The data set can be obtained at: https://www.kaggle.com/jessemostipak/hotel-booking-demand#"
   ]
  },
  {
   "cell_type": "markdown",
   "metadata": {},
   "source": [
    "__Import libraries and read in file:__"
   ]
  },
  {
   "cell_type": "code",
   "execution_count": 254,
   "metadata": {},
   "outputs": [],
   "source": [
    "import pandas as pd\n",
    "import numpy as np\n",
    "import math\n",
    "from sklearn.model_selection import train_test_split, cross_validate, cross_val_score, KFold\n",
    "from sklearn.model_selection import GridSearchCV\n",
    "from sklearn import neighbors, tree, naive_bayes\n",
    "from sklearn.naive_bayes import MultinomialNB\n",
    "from sklearn.linear_model import LinearRegression\n",
    "from sklearn.svm import SVC\n",
    "from sklearn.metrics import classification_report, confusion_matrix, roc_curve, auc, r2_score, roc_auc_score, plot_roc_curve\n",
    "from sklearn import metrics\n",
    "from sklearn import preprocessing\n",
    "from sklearn.preprocessing import LabelEncoder, OrdinalEncoder\n",
    "import matplotlib.pyplot as plt\n",
    "import seaborn as sns\n",
    "import pylab as pyplt"
   ]
  },
  {
   "cell_type": "code",
   "execution_count": 96,
   "metadata": {},
   "outputs": [
    {
     "data": {
      "text/html": [
       "<div>\n",
       "<style scoped>\n",
       "    .dataframe tbody tr th:only-of-type {\n",
       "        vertical-align: middle;\n",
       "    }\n",
       "\n",
       "    .dataframe tbody tr th {\n",
       "        vertical-align: top;\n",
       "    }\n",
       "\n",
       "    .dataframe thead th {\n",
       "        text-align: right;\n",
       "    }\n",
       "</style>\n",
       "<table border=\"1\" class=\"dataframe\">\n",
       "  <thead>\n",
       "    <tr style=\"text-align: right;\">\n",
       "      <th></th>\n",
       "      <th>hotel</th>\n",
       "      <th>is_canceled</th>\n",
       "      <th>lead_time</th>\n",
       "      <th>arrival_date_year</th>\n",
       "      <th>arrival_date_month</th>\n",
       "      <th>arrival_date_week_number</th>\n",
       "      <th>arrival_date_day_of_month</th>\n",
       "      <th>stays_in_weekend_nights</th>\n",
       "      <th>stays_in_week_nights</th>\n",
       "      <th>adults</th>\n",
       "      <th>children</th>\n",
       "      <th>babies</th>\n",
       "      <th>meal</th>\n",
       "      <th>country</th>\n",
       "      <th>market_segment</th>\n",
       "      <th>distribution_channel</th>\n",
       "      <th>is_repeated_guest</th>\n",
       "      <th>previous_cancellations</th>\n",
       "      <th>previous_bookings_not_canceled</th>\n",
       "      <th>reserved_room_type</th>\n",
       "      <th>assigned_room_type</th>\n",
       "      <th>booking_changes</th>\n",
       "      <th>deposit_type</th>\n",
       "      <th>agent</th>\n",
       "      <th>company</th>\n",
       "      <th>days_in_waiting_list</th>\n",
       "      <th>customer_type</th>\n",
       "      <th>adr</th>\n",
       "      <th>required_car_parking_spaces</th>\n",
       "      <th>total_of_special_requests</th>\n",
       "      <th>reservation_status</th>\n",
       "      <th>reservation_status_date</th>\n",
       "    </tr>\n",
       "  </thead>\n",
       "  <tbody>\n",
       "    <tr>\n",
       "      <th>0</th>\n",
       "      <td>Resort Hotel</td>\n",
       "      <td>0</td>\n",
       "      <td>342</td>\n",
       "      <td>2015</td>\n",
       "      <td>July</td>\n",
       "      <td>27</td>\n",
       "      <td>1</td>\n",
       "      <td>0</td>\n",
       "      <td>0</td>\n",
       "      <td>2</td>\n",
       "      <td>0.0</td>\n",
       "      <td>0</td>\n",
       "      <td>BB</td>\n",
       "      <td>PRT</td>\n",
       "      <td>Direct</td>\n",
       "      <td>Direct</td>\n",
       "      <td>0</td>\n",
       "      <td>0</td>\n",
       "      <td>0</td>\n",
       "      <td>C</td>\n",
       "      <td>C</td>\n",
       "      <td>3</td>\n",
       "      <td>No Deposit</td>\n",
       "      <td>NaN</td>\n",
       "      <td>NaN</td>\n",
       "      <td>0</td>\n",
       "      <td>Transient</td>\n",
       "      <td>0.0</td>\n",
       "      <td>0</td>\n",
       "      <td>0</td>\n",
       "      <td>Check-Out</td>\n",
       "      <td>2015-07-01</td>\n",
       "    </tr>\n",
       "    <tr>\n",
       "      <th>1</th>\n",
       "      <td>Resort Hotel</td>\n",
       "      <td>0</td>\n",
       "      <td>737</td>\n",
       "      <td>2015</td>\n",
       "      <td>July</td>\n",
       "      <td>27</td>\n",
       "      <td>1</td>\n",
       "      <td>0</td>\n",
       "      <td>0</td>\n",
       "      <td>2</td>\n",
       "      <td>0.0</td>\n",
       "      <td>0</td>\n",
       "      <td>BB</td>\n",
       "      <td>PRT</td>\n",
       "      <td>Direct</td>\n",
       "      <td>Direct</td>\n",
       "      <td>0</td>\n",
       "      <td>0</td>\n",
       "      <td>0</td>\n",
       "      <td>C</td>\n",
       "      <td>C</td>\n",
       "      <td>4</td>\n",
       "      <td>No Deposit</td>\n",
       "      <td>NaN</td>\n",
       "      <td>NaN</td>\n",
       "      <td>0</td>\n",
       "      <td>Transient</td>\n",
       "      <td>0.0</td>\n",
       "      <td>0</td>\n",
       "      <td>0</td>\n",
       "      <td>Check-Out</td>\n",
       "      <td>2015-07-01</td>\n",
       "    </tr>\n",
       "    <tr>\n",
       "      <th>2</th>\n",
       "      <td>Resort Hotel</td>\n",
       "      <td>0</td>\n",
       "      <td>7</td>\n",
       "      <td>2015</td>\n",
       "      <td>July</td>\n",
       "      <td>27</td>\n",
       "      <td>1</td>\n",
       "      <td>0</td>\n",
       "      <td>1</td>\n",
       "      <td>1</td>\n",
       "      <td>0.0</td>\n",
       "      <td>0</td>\n",
       "      <td>BB</td>\n",
       "      <td>GBR</td>\n",
       "      <td>Direct</td>\n",
       "      <td>Direct</td>\n",
       "      <td>0</td>\n",
       "      <td>0</td>\n",
       "      <td>0</td>\n",
       "      <td>A</td>\n",
       "      <td>C</td>\n",
       "      <td>0</td>\n",
       "      <td>No Deposit</td>\n",
       "      <td>NaN</td>\n",
       "      <td>NaN</td>\n",
       "      <td>0</td>\n",
       "      <td>Transient</td>\n",
       "      <td>75.0</td>\n",
       "      <td>0</td>\n",
       "      <td>0</td>\n",
       "      <td>Check-Out</td>\n",
       "      <td>2015-07-02</td>\n",
       "    </tr>\n",
       "    <tr>\n",
       "      <th>3</th>\n",
       "      <td>Resort Hotel</td>\n",
       "      <td>0</td>\n",
       "      <td>13</td>\n",
       "      <td>2015</td>\n",
       "      <td>July</td>\n",
       "      <td>27</td>\n",
       "      <td>1</td>\n",
       "      <td>0</td>\n",
       "      <td>1</td>\n",
       "      <td>1</td>\n",
       "      <td>0.0</td>\n",
       "      <td>0</td>\n",
       "      <td>BB</td>\n",
       "      <td>GBR</td>\n",
       "      <td>Corporate</td>\n",
       "      <td>Corporate</td>\n",
       "      <td>0</td>\n",
       "      <td>0</td>\n",
       "      <td>0</td>\n",
       "      <td>A</td>\n",
       "      <td>A</td>\n",
       "      <td>0</td>\n",
       "      <td>No Deposit</td>\n",
       "      <td>304.0</td>\n",
       "      <td>NaN</td>\n",
       "      <td>0</td>\n",
       "      <td>Transient</td>\n",
       "      <td>75.0</td>\n",
       "      <td>0</td>\n",
       "      <td>0</td>\n",
       "      <td>Check-Out</td>\n",
       "      <td>2015-07-02</td>\n",
       "    </tr>\n",
       "    <tr>\n",
       "      <th>4</th>\n",
       "      <td>Resort Hotel</td>\n",
       "      <td>0</td>\n",
       "      <td>14</td>\n",
       "      <td>2015</td>\n",
       "      <td>July</td>\n",
       "      <td>27</td>\n",
       "      <td>1</td>\n",
       "      <td>0</td>\n",
       "      <td>2</td>\n",
       "      <td>2</td>\n",
       "      <td>0.0</td>\n",
       "      <td>0</td>\n",
       "      <td>BB</td>\n",
       "      <td>GBR</td>\n",
       "      <td>Online TA</td>\n",
       "      <td>TA/TO</td>\n",
       "      <td>0</td>\n",
       "      <td>0</td>\n",
       "      <td>0</td>\n",
       "      <td>A</td>\n",
       "      <td>A</td>\n",
       "      <td>0</td>\n",
       "      <td>No Deposit</td>\n",
       "      <td>240.0</td>\n",
       "      <td>NaN</td>\n",
       "      <td>0</td>\n",
       "      <td>Transient</td>\n",
       "      <td>98.0</td>\n",
       "      <td>0</td>\n",
       "      <td>1</td>\n",
       "      <td>Check-Out</td>\n",
       "      <td>2015-07-03</td>\n",
       "    </tr>\n",
       "    <tr>\n",
       "      <th>5</th>\n",
       "      <td>Resort Hotel</td>\n",
       "      <td>0</td>\n",
       "      <td>14</td>\n",
       "      <td>2015</td>\n",
       "      <td>July</td>\n",
       "      <td>27</td>\n",
       "      <td>1</td>\n",
       "      <td>0</td>\n",
       "      <td>2</td>\n",
       "      <td>2</td>\n",
       "      <td>0.0</td>\n",
       "      <td>0</td>\n",
       "      <td>BB</td>\n",
       "      <td>GBR</td>\n",
       "      <td>Online TA</td>\n",
       "      <td>TA/TO</td>\n",
       "      <td>0</td>\n",
       "      <td>0</td>\n",
       "      <td>0</td>\n",
       "      <td>A</td>\n",
       "      <td>A</td>\n",
       "      <td>0</td>\n",
       "      <td>No Deposit</td>\n",
       "      <td>240.0</td>\n",
       "      <td>NaN</td>\n",
       "      <td>0</td>\n",
       "      <td>Transient</td>\n",
       "      <td>98.0</td>\n",
       "      <td>0</td>\n",
       "      <td>1</td>\n",
       "      <td>Check-Out</td>\n",
       "      <td>2015-07-03</td>\n",
       "    </tr>\n",
       "    <tr>\n",
       "      <th>6</th>\n",
       "      <td>Resort Hotel</td>\n",
       "      <td>0</td>\n",
       "      <td>0</td>\n",
       "      <td>2015</td>\n",
       "      <td>July</td>\n",
       "      <td>27</td>\n",
       "      <td>1</td>\n",
       "      <td>0</td>\n",
       "      <td>2</td>\n",
       "      <td>2</td>\n",
       "      <td>0.0</td>\n",
       "      <td>0</td>\n",
       "      <td>BB</td>\n",
       "      <td>PRT</td>\n",
       "      <td>Direct</td>\n",
       "      <td>Direct</td>\n",
       "      <td>0</td>\n",
       "      <td>0</td>\n",
       "      <td>0</td>\n",
       "      <td>C</td>\n",
       "      <td>C</td>\n",
       "      <td>0</td>\n",
       "      <td>No Deposit</td>\n",
       "      <td>NaN</td>\n",
       "      <td>NaN</td>\n",
       "      <td>0</td>\n",
       "      <td>Transient</td>\n",
       "      <td>107.0</td>\n",
       "      <td>0</td>\n",
       "      <td>0</td>\n",
       "      <td>Check-Out</td>\n",
       "      <td>2015-07-03</td>\n",
       "    </tr>\n",
       "    <tr>\n",
       "      <th>7</th>\n",
       "      <td>Resort Hotel</td>\n",
       "      <td>0</td>\n",
       "      <td>9</td>\n",
       "      <td>2015</td>\n",
       "      <td>July</td>\n",
       "      <td>27</td>\n",
       "      <td>1</td>\n",
       "      <td>0</td>\n",
       "      <td>2</td>\n",
       "      <td>2</td>\n",
       "      <td>0.0</td>\n",
       "      <td>0</td>\n",
       "      <td>FB</td>\n",
       "      <td>PRT</td>\n",
       "      <td>Direct</td>\n",
       "      <td>Direct</td>\n",
       "      <td>0</td>\n",
       "      <td>0</td>\n",
       "      <td>0</td>\n",
       "      <td>C</td>\n",
       "      <td>C</td>\n",
       "      <td>0</td>\n",
       "      <td>No Deposit</td>\n",
       "      <td>303.0</td>\n",
       "      <td>NaN</td>\n",
       "      <td>0</td>\n",
       "      <td>Transient</td>\n",
       "      <td>103.0</td>\n",
       "      <td>0</td>\n",
       "      <td>1</td>\n",
       "      <td>Check-Out</td>\n",
       "      <td>2015-07-03</td>\n",
       "    </tr>\n",
       "    <tr>\n",
       "      <th>8</th>\n",
       "      <td>Resort Hotel</td>\n",
       "      <td>1</td>\n",
       "      <td>85</td>\n",
       "      <td>2015</td>\n",
       "      <td>July</td>\n",
       "      <td>27</td>\n",
       "      <td>1</td>\n",
       "      <td>0</td>\n",
       "      <td>3</td>\n",
       "      <td>2</td>\n",
       "      <td>0.0</td>\n",
       "      <td>0</td>\n",
       "      <td>BB</td>\n",
       "      <td>PRT</td>\n",
       "      <td>Online TA</td>\n",
       "      <td>TA/TO</td>\n",
       "      <td>0</td>\n",
       "      <td>0</td>\n",
       "      <td>0</td>\n",
       "      <td>A</td>\n",
       "      <td>A</td>\n",
       "      <td>0</td>\n",
       "      <td>No Deposit</td>\n",
       "      <td>240.0</td>\n",
       "      <td>NaN</td>\n",
       "      <td>0</td>\n",
       "      <td>Transient</td>\n",
       "      <td>82.0</td>\n",
       "      <td>0</td>\n",
       "      <td>1</td>\n",
       "      <td>Canceled</td>\n",
       "      <td>2015-05-06</td>\n",
       "    </tr>\n",
       "    <tr>\n",
       "      <th>9</th>\n",
       "      <td>Resort Hotel</td>\n",
       "      <td>1</td>\n",
       "      <td>75</td>\n",
       "      <td>2015</td>\n",
       "      <td>July</td>\n",
       "      <td>27</td>\n",
       "      <td>1</td>\n",
       "      <td>0</td>\n",
       "      <td>3</td>\n",
       "      <td>2</td>\n",
       "      <td>0.0</td>\n",
       "      <td>0</td>\n",
       "      <td>HB</td>\n",
       "      <td>PRT</td>\n",
       "      <td>Offline TA/TO</td>\n",
       "      <td>TA/TO</td>\n",
       "      <td>0</td>\n",
       "      <td>0</td>\n",
       "      <td>0</td>\n",
       "      <td>D</td>\n",
       "      <td>D</td>\n",
       "      <td>0</td>\n",
       "      <td>No Deposit</td>\n",
       "      <td>15.0</td>\n",
       "      <td>NaN</td>\n",
       "      <td>0</td>\n",
       "      <td>Transient</td>\n",
       "      <td>105.5</td>\n",
       "      <td>0</td>\n",
       "      <td>0</td>\n",
       "      <td>Canceled</td>\n",
       "      <td>2015-04-22</td>\n",
       "    </tr>\n",
       "  </tbody>\n",
       "</table>\n",
       "</div>"
      ],
      "text/plain": [
       "          hotel  is_canceled  lead_time  arrival_date_year arrival_date_month  \\\n",
       "0  Resort Hotel            0        342               2015               July   \n",
       "1  Resort Hotel            0        737               2015               July   \n",
       "2  Resort Hotel            0          7               2015               July   \n",
       "3  Resort Hotel            0         13               2015               July   \n",
       "4  Resort Hotel            0         14               2015               July   \n",
       "5  Resort Hotel            0         14               2015               July   \n",
       "6  Resort Hotel            0          0               2015               July   \n",
       "7  Resort Hotel            0          9               2015               July   \n",
       "8  Resort Hotel            1         85               2015               July   \n",
       "9  Resort Hotel            1         75               2015               July   \n",
       "\n",
       "   arrival_date_week_number  arrival_date_day_of_month  \\\n",
       "0                        27                          1   \n",
       "1                        27                          1   \n",
       "2                        27                          1   \n",
       "3                        27                          1   \n",
       "4                        27                          1   \n",
       "5                        27                          1   \n",
       "6                        27                          1   \n",
       "7                        27                          1   \n",
       "8                        27                          1   \n",
       "9                        27                          1   \n",
       "\n",
       "   stays_in_weekend_nights  stays_in_week_nights  adults  children  babies  \\\n",
       "0                        0                     0       2       0.0       0   \n",
       "1                        0                     0       2       0.0       0   \n",
       "2                        0                     1       1       0.0       0   \n",
       "3                        0                     1       1       0.0       0   \n",
       "4                        0                     2       2       0.0       0   \n",
       "5                        0                     2       2       0.0       0   \n",
       "6                        0                     2       2       0.0       0   \n",
       "7                        0                     2       2       0.0       0   \n",
       "8                        0                     3       2       0.0       0   \n",
       "9                        0                     3       2       0.0       0   \n",
       "\n",
       "  meal country market_segment distribution_channel  is_repeated_guest  \\\n",
       "0   BB     PRT         Direct               Direct                  0   \n",
       "1   BB     PRT         Direct               Direct                  0   \n",
       "2   BB     GBR         Direct               Direct                  0   \n",
       "3   BB     GBR      Corporate            Corporate                  0   \n",
       "4   BB     GBR      Online TA                TA/TO                  0   \n",
       "5   BB     GBR      Online TA                TA/TO                  0   \n",
       "6   BB     PRT         Direct               Direct                  0   \n",
       "7   FB     PRT         Direct               Direct                  0   \n",
       "8   BB     PRT      Online TA                TA/TO                  0   \n",
       "9   HB     PRT  Offline TA/TO                TA/TO                  0   \n",
       "\n",
       "   previous_cancellations  previous_bookings_not_canceled reserved_room_type  \\\n",
       "0                       0                               0                  C   \n",
       "1                       0                               0                  C   \n",
       "2                       0                               0                  A   \n",
       "3                       0                               0                  A   \n",
       "4                       0                               0                  A   \n",
       "5                       0                               0                  A   \n",
       "6                       0                               0                  C   \n",
       "7                       0                               0                  C   \n",
       "8                       0                               0                  A   \n",
       "9                       0                               0                  D   \n",
       "\n",
       "  assigned_room_type  booking_changes deposit_type  agent  company  \\\n",
       "0                  C                3   No Deposit    NaN      NaN   \n",
       "1                  C                4   No Deposit    NaN      NaN   \n",
       "2                  C                0   No Deposit    NaN      NaN   \n",
       "3                  A                0   No Deposit  304.0      NaN   \n",
       "4                  A                0   No Deposit  240.0      NaN   \n",
       "5                  A                0   No Deposit  240.0      NaN   \n",
       "6                  C                0   No Deposit    NaN      NaN   \n",
       "7                  C                0   No Deposit  303.0      NaN   \n",
       "8                  A                0   No Deposit  240.0      NaN   \n",
       "9                  D                0   No Deposit   15.0      NaN   \n",
       "\n",
       "   days_in_waiting_list customer_type    adr  required_car_parking_spaces  \\\n",
       "0                     0     Transient    0.0                            0   \n",
       "1                     0     Transient    0.0                            0   \n",
       "2                     0     Transient   75.0                            0   \n",
       "3                     0     Transient   75.0                            0   \n",
       "4                     0     Transient   98.0                            0   \n",
       "5                     0     Transient   98.0                            0   \n",
       "6                     0     Transient  107.0                            0   \n",
       "7                     0     Transient  103.0                            0   \n",
       "8                     0     Transient   82.0                            0   \n",
       "9                     0     Transient  105.5                            0   \n",
       "\n",
       "   total_of_special_requests reservation_status reservation_status_date  \n",
       "0                          0          Check-Out              2015-07-01  \n",
       "1                          0          Check-Out              2015-07-01  \n",
       "2                          0          Check-Out              2015-07-02  \n",
       "3                          0          Check-Out              2015-07-02  \n",
       "4                          1          Check-Out              2015-07-03  \n",
       "5                          1          Check-Out              2015-07-03  \n",
       "6                          0          Check-Out              2015-07-03  \n",
       "7                          1          Check-Out              2015-07-03  \n",
       "8                          1           Canceled              2015-05-06  \n",
       "9                          0           Canceled              2015-04-22  "
      ]
     },
     "execution_count": 96,
     "metadata": {},
     "output_type": "execute_result"
    }
   ],
   "source": [
    "#%cd \"/Users/jonathanlynch/Desktop/DSC 478\"\n",
    "\n",
    "pd.set_option('display.max_columns', None)   # change view to see all attributes\n",
    "# data = pd.read_csv(\"data/hotel_bookings.csv\")\n",
    "data = pd.read_csv(\"hotel_bookings.csv\")\n",
    "\n",
    "data.head(10)"
   ]
  },
  {
   "cell_type": "code",
   "execution_count": 97,
   "metadata": {},
   "outputs": [
    {
     "data": {
      "text/plain": [
       "(119390, 32)"
      ]
     },
     "execution_count": 97,
     "metadata": {},
     "output_type": "execute_result"
    }
   ],
   "source": [
    "data.shape  # look at size of dataset"
   ]
  },
  {
   "cell_type": "markdown",
   "metadata": {},
   "source": [
    "## Clean Data:"
   ]
  },
  {
   "cell_type": "markdown",
   "metadata": {},
   "source": [
    "__Take a look at the data types:__"
   ]
  },
  {
   "cell_type": "code",
   "execution_count": 98,
   "metadata": {},
   "outputs": [
    {
     "name": "stdout",
     "output_type": "stream",
     "text": [
      "<class 'pandas.core.frame.DataFrame'>\n",
      "RangeIndex: 119390 entries, 0 to 119389\n",
      "Data columns (total 32 columns):\n",
      " #   Column                          Non-Null Count   Dtype  \n",
      "---  ------                          --------------   -----  \n",
      " 0   hotel                           119390 non-null  object \n",
      " 1   is_canceled                     119390 non-null  int64  \n",
      " 2   lead_time                       119390 non-null  int64  \n",
      " 3   arrival_date_year               119390 non-null  int64  \n",
      " 4   arrival_date_month              119390 non-null  object \n",
      " 5   arrival_date_week_number        119390 non-null  int64  \n",
      " 6   arrival_date_day_of_month       119390 non-null  int64  \n",
      " 7   stays_in_weekend_nights         119390 non-null  int64  \n",
      " 8   stays_in_week_nights            119390 non-null  int64  \n",
      " 9   adults                          119390 non-null  int64  \n",
      " 10  children                        119386 non-null  float64\n",
      " 11  babies                          119390 non-null  int64  \n",
      " 12  meal                            119390 non-null  object \n",
      " 13  country                         118902 non-null  object \n",
      " 14  market_segment                  119390 non-null  object \n",
      " 15  distribution_channel            119390 non-null  object \n",
      " 16  is_repeated_guest               119390 non-null  int64  \n",
      " 17  previous_cancellations          119390 non-null  int64  \n",
      " 18  previous_bookings_not_canceled  119390 non-null  int64  \n",
      " 19  reserved_room_type              119390 non-null  object \n",
      " 20  assigned_room_type              119390 non-null  object \n",
      " 21  booking_changes                 119390 non-null  int64  \n",
      " 22  deposit_type                    119390 non-null  object \n",
      " 23  agent                           103050 non-null  float64\n",
      " 24  company                         6797 non-null    float64\n",
      " 25  days_in_waiting_list            119390 non-null  int64  \n",
      " 26  customer_type                   119390 non-null  object \n",
      " 27  adr                             119390 non-null  float64\n",
      " 28  required_car_parking_spaces     119390 non-null  int64  \n",
      " 29  total_of_special_requests       119390 non-null  int64  \n",
      " 30  reservation_status              119390 non-null  object \n",
      " 31  reservation_status_date         119390 non-null  object \n",
      "dtypes: float64(4), int64(16), object(12)\n",
      "memory usage: 29.1+ MB\n"
     ]
    }
   ],
   "source": [
    "data.info()"
   ]
  },
  {
   "cell_type": "markdown",
   "metadata": {},
   "source": [
    "At first glance, it appears that there are 12 categorical variables.  However, the variables is_canceled, is_repeated_guest, and agent (represented by travel agency ID) are really categorical in nature but are already represented as numbers. The last column, reservation_status_date, is an ordinal attribute, but in most cases is identical to the arrival date."
   ]
  },
  {
   "cell_type": "markdown",
   "metadata": {},
   "source": [
    "__Check for missing values:__"
   ]
  },
  {
   "cell_type": "code",
   "execution_count": 99,
   "metadata": {},
   "outputs": [
    {
     "data": {
      "text/plain": [
       "hotel                                  0\n",
       "is_canceled                            0\n",
       "lead_time                              0\n",
       "arrival_date_year                      0\n",
       "arrival_date_month                     0\n",
       "arrival_date_week_number               0\n",
       "arrival_date_day_of_month              0\n",
       "stays_in_weekend_nights                0\n",
       "stays_in_week_nights                   0\n",
       "adults                                 0\n",
       "children                               4\n",
       "babies                                 0\n",
       "meal                                   0\n",
       "country                              488\n",
       "market_segment                         0\n",
       "distribution_channel                   0\n",
       "is_repeated_guest                      0\n",
       "previous_cancellations                 0\n",
       "previous_bookings_not_canceled         0\n",
       "reserved_room_type                     0\n",
       "assigned_room_type                     0\n",
       "booking_changes                        0\n",
       "deposit_type                           0\n",
       "agent                              16340\n",
       "company                           112593\n",
       "days_in_waiting_list                   0\n",
       "customer_type                          0\n",
       "adr                                    0\n",
       "required_car_parking_spaces            0\n",
       "total_of_special_requests              0\n",
       "reservation_status                     0\n",
       "reservation_status_date                0\n",
       "dtype: int64"
      ]
     },
     "execution_count": 99,
     "metadata": {},
     "output_type": "execute_result"
    }
   ],
   "source": [
    "data.isnull().sum()"
   ]
  },
  {
   "cell_type": "code",
   "execution_count": 100,
   "metadata": {},
   "outputs": [
    {
     "data": {
      "text/html": [
       "<div>\n",
       "<style scoped>\n",
       "    .dataframe tbody tr th:only-of-type {\n",
       "        vertical-align: middle;\n",
       "    }\n",
       "\n",
       "    .dataframe tbody tr th {\n",
       "        vertical-align: top;\n",
       "    }\n",
       "\n",
       "    .dataframe thead th {\n",
       "        text-align: right;\n",
       "    }\n",
       "</style>\n",
       "<table border=\"1\" class=\"dataframe\">\n",
       "  <thead>\n",
       "    <tr style=\"text-align: right;\">\n",
       "      <th></th>\n",
       "      <th>hotel</th>\n",
       "      <th>is_canceled</th>\n",
       "      <th>lead_time</th>\n",
       "      <th>arrival_date_year</th>\n",
       "      <th>arrival_date_month</th>\n",
       "      <th>arrival_date_week_number</th>\n",
       "      <th>arrival_date_day_of_month</th>\n",
       "      <th>stays_in_weekend_nights</th>\n",
       "      <th>stays_in_week_nights</th>\n",
       "      <th>adults</th>\n",
       "      <th>children</th>\n",
       "      <th>babies</th>\n",
       "      <th>meal</th>\n",
       "      <th>country</th>\n",
       "      <th>market_segment</th>\n",
       "      <th>distribution_channel</th>\n",
       "      <th>is_repeated_guest</th>\n",
       "      <th>previous_cancellations</th>\n",
       "      <th>previous_bookings_not_canceled</th>\n",
       "      <th>reserved_room_type</th>\n",
       "      <th>assigned_room_type</th>\n",
       "      <th>booking_changes</th>\n",
       "      <th>deposit_type</th>\n",
       "      <th>agent</th>\n",
       "      <th>company</th>\n",
       "      <th>days_in_waiting_list</th>\n",
       "      <th>customer_type</th>\n",
       "      <th>adr</th>\n",
       "      <th>required_car_parking_spaces</th>\n",
       "      <th>total_of_special_requests</th>\n",
       "      <th>reservation_status</th>\n",
       "      <th>reservation_status_date</th>\n",
       "    </tr>\n",
       "  </thead>\n",
       "  <tbody>\n",
       "    <tr>\n",
       "      <th>count</th>\n",
       "      <td>119390</td>\n",
       "      <td>119390.000000</td>\n",
       "      <td>119390.000000</td>\n",
       "      <td>119390.000000</td>\n",
       "      <td>119390</td>\n",
       "      <td>119390.000000</td>\n",
       "      <td>119390.000000</td>\n",
       "      <td>119390.000000</td>\n",
       "      <td>119390.000000</td>\n",
       "      <td>119390.000000</td>\n",
       "      <td>119386.000000</td>\n",
       "      <td>119390.000000</td>\n",
       "      <td>119390</td>\n",
       "      <td>118902</td>\n",
       "      <td>119390</td>\n",
       "      <td>119390</td>\n",
       "      <td>119390.000000</td>\n",
       "      <td>119390.000000</td>\n",
       "      <td>119390.000000</td>\n",
       "      <td>119390</td>\n",
       "      <td>119390</td>\n",
       "      <td>119390.000000</td>\n",
       "      <td>119390</td>\n",
       "      <td>103050.000000</td>\n",
       "      <td>6797.000000</td>\n",
       "      <td>119390.000000</td>\n",
       "      <td>119390</td>\n",
       "      <td>119390.000000</td>\n",
       "      <td>119390.000000</td>\n",
       "      <td>119390.000000</td>\n",
       "      <td>119390</td>\n",
       "      <td>119390</td>\n",
       "    </tr>\n",
       "    <tr>\n",
       "      <th>unique</th>\n",
       "      <td>2</td>\n",
       "      <td>NaN</td>\n",
       "      <td>NaN</td>\n",
       "      <td>NaN</td>\n",
       "      <td>12</td>\n",
       "      <td>NaN</td>\n",
       "      <td>NaN</td>\n",
       "      <td>NaN</td>\n",
       "      <td>NaN</td>\n",
       "      <td>NaN</td>\n",
       "      <td>NaN</td>\n",
       "      <td>NaN</td>\n",
       "      <td>5</td>\n",
       "      <td>177</td>\n",
       "      <td>8</td>\n",
       "      <td>5</td>\n",
       "      <td>NaN</td>\n",
       "      <td>NaN</td>\n",
       "      <td>NaN</td>\n",
       "      <td>10</td>\n",
       "      <td>12</td>\n",
       "      <td>NaN</td>\n",
       "      <td>3</td>\n",
       "      <td>NaN</td>\n",
       "      <td>NaN</td>\n",
       "      <td>NaN</td>\n",
       "      <td>4</td>\n",
       "      <td>NaN</td>\n",
       "      <td>NaN</td>\n",
       "      <td>NaN</td>\n",
       "      <td>3</td>\n",
       "      <td>926</td>\n",
       "    </tr>\n",
       "    <tr>\n",
       "      <th>top</th>\n",
       "      <td>City Hotel</td>\n",
       "      <td>NaN</td>\n",
       "      <td>NaN</td>\n",
       "      <td>NaN</td>\n",
       "      <td>August</td>\n",
       "      <td>NaN</td>\n",
       "      <td>NaN</td>\n",
       "      <td>NaN</td>\n",
       "      <td>NaN</td>\n",
       "      <td>NaN</td>\n",
       "      <td>NaN</td>\n",
       "      <td>NaN</td>\n",
       "      <td>BB</td>\n",
       "      <td>PRT</td>\n",
       "      <td>Online TA</td>\n",
       "      <td>TA/TO</td>\n",
       "      <td>NaN</td>\n",
       "      <td>NaN</td>\n",
       "      <td>NaN</td>\n",
       "      <td>A</td>\n",
       "      <td>A</td>\n",
       "      <td>NaN</td>\n",
       "      <td>No Deposit</td>\n",
       "      <td>NaN</td>\n",
       "      <td>NaN</td>\n",
       "      <td>NaN</td>\n",
       "      <td>Transient</td>\n",
       "      <td>NaN</td>\n",
       "      <td>NaN</td>\n",
       "      <td>NaN</td>\n",
       "      <td>Check-Out</td>\n",
       "      <td>2015-10-21</td>\n",
       "    </tr>\n",
       "    <tr>\n",
       "      <th>freq</th>\n",
       "      <td>79330</td>\n",
       "      <td>NaN</td>\n",
       "      <td>NaN</td>\n",
       "      <td>NaN</td>\n",
       "      <td>13877</td>\n",
       "      <td>NaN</td>\n",
       "      <td>NaN</td>\n",
       "      <td>NaN</td>\n",
       "      <td>NaN</td>\n",
       "      <td>NaN</td>\n",
       "      <td>NaN</td>\n",
       "      <td>NaN</td>\n",
       "      <td>92310</td>\n",
       "      <td>48590</td>\n",
       "      <td>56477</td>\n",
       "      <td>97870</td>\n",
       "      <td>NaN</td>\n",
       "      <td>NaN</td>\n",
       "      <td>NaN</td>\n",
       "      <td>85994</td>\n",
       "      <td>74053</td>\n",
       "      <td>NaN</td>\n",
       "      <td>104641</td>\n",
       "      <td>NaN</td>\n",
       "      <td>NaN</td>\n",
       "      <td>NaN</td>\n",
       "      <td>89613</td>\n",
       "      <td>NaN</td>\n",
       "      <td>NaN</td>\n",
       "      <td>NaN</td>\n",
       "      <td>75166</td>\n",
       "      <td>1461</td>\n",
       "    </tr>\n",
       "    <tr>\n",
       "      <th>mean</th>\n",
       "      <td>NaN</td>\n",
       "      <td>0.370416</td>\n",
       "      <td>104.011416</td>\n",
       "      <td>2016.156554</td>\n",
       "      <td>NaN</td>\n",
       "      <td>27.165173</td>\n",
       "      <td>15.798241</td>\n",
       "      <td>0.927599</td>\n",
       "      <td>2.500302</td>\n",
       "      <td>1.856403</td>\n",
       "      <td>0.103890</td>\n",
       "      <td>0.007949</td>\n",
       "      <td>NaN</td>\n",
       "      <td>NaN</td>\n",
       "      <td>NaN</td>\n",
       "      <td>NaN</td>\n",
       "      <td>0.031912</td>\n",
       "      <td>0.087118</td>\n",
       "      <td>0.137097</td>\n",
       "      <td>NaN</td>\n",
       "      <td>NaN</td>\n",
       "      <td>0.221124</td>\n",
       "      <td>NaN</td>\n",
       "      <td>86.693382</td>\n",
       "      <td>189.266735</td>\n",
       "      <td>2.321149</td>\n",
       "      <td>NaN</td>\n",
       "      <td>101.831122</td>\n",
       "      <td>0.062518</td>\n",
       "      <td>0.571363</td>\n",
       "      <td>NaN</td>\n",
       "      <td>NaN</td>\n",
       "    </tr>\n",
       "    <tr>\n",
       "      <th>std</th>\n",
       "      <td>NaN</td>\n",
       "      <td>0.482918</td>\n",
       "      <td>106.863097</td>\n",
       "      <td>0.707476</td>\n",
       "      <td>NaN</td>\n",
       "      <td>13.605138</td>\n",
       "      <td>8.780829</td>\n",
       "      <td>0.998613</td>\n",
       "      <td>1.908286</td>\n",
       "      <td>0.579261</td>\n",
       "      <td>0.398561</td>\n",
       "      <td>0.097436</td>\n",
       "      <td>NaN</td>\n",
       "      <td>NaN</td>\n",
       "      <td>NaN</td>\n",
       "      <td>NaN</td>\n",
       "      <td>0.175767</td>\n",
       "      <td>0.844336</td>\n",
       "      <td>1.497437</td>\n",
       "      <td>NaN</td>\n",
       "      <td>NaN</td>\n",
       "      <td>0.652306</td>\n",
       "      <td>NaN</td>\n",
       "      <td>110.774548</td>\n",
       "      <td>131.655015</td>\n",
       "      <td>17.594721</td>\n",
       "      <td>NaN</td>\n",
       "      <td>50.535790</td>\n",
       "      <td>0.245291</td>\n",
       "      <td>0.792798</td>\n",
       "      <td>NaN</td>\n",
       "      <td>NaN</td>\n",
       "    </tr>\n",
       "    <tr>\n",
       "      <th>min</th>\n",
       "      <td>NaN</td>\n",
       "      <td>0.000000</td>\n",
       "      <td>0.000000</td>\n",
       "      <td>2015.000000</td>\n",
       "      <td>NaN</td>\n",
       "      <td>1.000000</td>\n",
       "      <td>1.000000</td>\n",
       "      <td>0.000000</td>\n",
       "      <td>0.000000</td>\n",
       "      <td>0.000000</td>\n",
       "      <td>0.000000</td>\n",
       "      <td>0.000000</td>\n",
       "      <td>NaN</td>\n",
       "      <td>NaN</td>\n",
       "      <td>NaN</td>\n",
       "      <td>NaN</td>\n",
       "      <td>0.000000</td>\n",
       "      <td>0.000000</td>\n",
       "      <td>0.000000</td>\n",
       "      <td>NaN</td>\n",
       "      <td>NaN</td>\n",
       "      <td>0.000000</td>\n",
       "      <td>NaN</td>\n",
       "      <td>1.000000</td>\n",
       "      <td>6.000000</td>\n",
       "      <td>0.000000</td>\n",
       "      <td>NaN</td>\n",
       "      <td>-6.380000</td>\n",
       "      <td>0.000000</td>\n",
       "      <td>0.000000</td>\n",
       "      <td>NaN</td>\n",
       "      <td>NaN</td>\n",
       "    </tr>\n",
       "    <tr>\n",
       "      <th>25%</th>\n",
       "      <td>NaN</td>\n",
       "      <td>0.000000</td>\n",
       "      <td>18.000000</td>\n",
       "      <td>2016.000000</td>\n",
       "      <td>NaN</td>\n",
       "      <td>16.000000</td>\n",
       "      <td>8.000000</td>\n",
       "      <td>0.000000</td>\n",
       "      <td>1.000000</td>\n",
       "      <td>2.000000</td>\n",
       "      <td>0.000000</td>\n",
       "      <td>0.000000</td>\n",
       "      <td>NaN</td>\n",
       "      <td>NaN</td>\n",
       "      <td>NaN</td>\n",
       "      <td>NaN</td>\n",
       "      <td>0.000000</td>\n",
       "      <td>0.000000</td>\n",
       "      <td>0.000000</td>\n",
       "      <td>NaN</td>\n",
       "      <td>NaN</td>\n",
       "      <td>0.000000</td>\n",
       "      <td>NaN</td>\n",
       "      <td>9.000000</td>\n",
       "      <td>62.000000</td>\n",
       "      <td>0.000000</td>\n",
       "      <td>NaN</td>\n",
       "      <td>69.290000</td>\n",
       "      <td>0.000000</td>\n",
       "      <td>0.000000</td>\n",
       "      <td>NaN</td>\n",
       "      <td>NaN</td>\n",
       "    </tr>\n",
       "    <tr>\n",
       "      <th>50%</th>\n",
       "      <td>NaN</td>\n",
       "      <td>0.000000</td>\n",
       "      <td>69.000000</td>\n",
       "      <td>2016.000000</td>\n",
       "      <td>NaN</td>\n",
       "      <td>28.000000</td>\n",
       "      <td>16.000000</td>\n",
       "      <td>1.000000</td>\n",
       "      <td>2.000000</td>\n",
       "      <td>2.000000</td>\n",
       "      <td>0.000000</td>\n",
       "      <td>0.000000</td>\n",
       "      <td>NaN</td>\n",
       "      <td>NaN</td>\n",
       "      <td>NaN</td>\n",
       "      <td>NaN</td>\n",
       "      <td>0.000000</td>\n",
       "      <td>0.000000</td>\n",
       "      <td>0.000000</td>\n",
       "      <td>NaN</td>\n",
       "      <td>NaN</td>\n",
       "      <td>0.000000</td>\n",
       "      <td>NaN</td>\n",
       "      <td>14.000000</td>\n",
       "      <td>179.000000</td>\n",
       "      <td>0.000000</td>\n",
       "      <td>NaN</td>\n",
       "      <td>94.575000</td>\n",
       "      <td>0.000000</td>\n",
       "      <td>0.000000</td>\n",
       "      <td>NaN</td>\n",
       "      <td>NaN</td>\n",
       "    </tr>\n",
       "    <tr>\n",
       "      <th>75%</th>\n",
       "      <td>NaN</td>\n",
       "      <td>1.000000</td>\n",
       "      <td>160.000000</td>\n",
       "      <td>2017.000000</td>\n",
       "      <td>NaN</td>\n",
       "      <td>38.000000</td>\n",
       "      <td>23.000000</td>\n",
       "      <td>2.000000</td>\n",
       "      <td>3.000000</td>\n",
       "      <td>2.000000</td>\n",
       "      <td>0.000000</td>\n",
       "      <td>0.000000</td>\n",
       "      <td>NaN</td>\n",
       "      <td>NaN</td>\n",
       "      <td>NaN</td>\n",
       "      <td>NaN</td>\n",
       "      <td>0.000000</td>\n",
       "      <td>0.000000</td>\n",
       "      <td>0.000000</td>\n",
       "      <td>NaN</td>\n",
       "      <td>NaN</td>\n",
       "      <td>0.000000</td>\n",
       "      <td>NaN</td>\n",
       "      <td>229.000000</td>\n",
       "      <td>270.000000</td>\n",
       "      <td>0.000000</td>\n",
       "      <td>NaN</td>\n",
       "      <td>126.000000</td>\n",
       "      <td>0.000000</td>\n",
       "      <td>1.000000</td>\n",
       "      <td>NaN</td>\n",
       "      <td>NaN</td>\n",
       "    </tr>\n",
       "    <tr>\n",
       "      <th>max</th>\n",
       "      <td>NaN</td>\n",
       "      <td>1.000000</td>\n",
       "      <td>737.000000</td>\n",
       "      <td>2017.000000</td>\n",
       "      <td>NaN</td>\n",
       "      <td>53.000000</td>\n",
       "      <td>31.000000</td>\n",
       "      <td>19.000000</td>\n",
       "      <td>50.000000</td>\n",
       "      <td>55.000000</td>\n",
       "      <td>10.000000</td>\n",
       "      <td>10.000000</td>\n",
       "      <td>NaN</td>\n",
       "      <td>NaN</td>\n",
       "      <td>NaN</td>\n",
       "      <td>NaN</td>\n",
       "      <td>1.000000</td>\n",
       "      <td>26.000000</td>\n",
       "      <td>72.000000</td>\n",
       "      <td>NaN</td>\n",
       "      <td>NaN</td>\n",
       "      <td>21.000000</td>\n",
       "      <td>NaN</td>\n",
       "      <td>535.000000</td>\n",
       "      <td>543.000000</td>\n",
       "      <td>391.000000</td>\n",
       "      <td>NaN</td>\n",
       "      <td>5400.000000</td>\n",
       "      <td>8.000000</td>\n",
       "      <td>5.000000</td>\n",
       "      <td>NaN</td>\n",
       "      <td>NaN</td>\n",
       "    </tr>\n",
       "  </tbody>\n",
       "</table>\n",
       "</div>"
      ],
      "text/plain": [
       "             hotel    is_canceled      lead_time  arrival_date_year  \\\n",
       "count       119390  119390.000000  119390.000000      119390.000000   \n",
       "unique           2            NaN            NaN                NaN   \n",
       "top     City Hotel            NaN            NaN                NaN   \n",
       "freq         79330            NaN            NaN                NaN   \n",
       "mean           NaN       0.370416     104.011416        2016.156554   \n",
       "std            NaN       0.482918     106.863097           0.707476   \n",
       "min            NaN       0.000000       0.000000        2015.000000   \n",
       "25%            NaN       0.000000      18.000000        2016.000000   \n",
       "50%            NaN       0.000000      69.000000        2016.000000   \n",
       "75%            NaN       1.000000     160.000000        2017.000000   \n",
       "max            NaN       1.000000     737.000000        2017.000000   \n",
       "\n",
       "       arrival_date_month  arrival_date_week_number  \\\n",
       "count              119390             119390.000000   \n",
       "unique                 12                       NaN   \n",
       "top                August                       NaN   \n",
       "freq                13877                       NaN   \n",
       "mean                  NaN                 27.165173   \n",
       "std                   NaN                 13.605138   \n",
       "min                   NaN                  1.000000   \n",
       "25%                   NaN                 16.000000   \n",
       "50%                   NaN                 28.000000   \n",
       "75%                   NaN                 38.000000   \n",
       "max                   NaN                 53.000000   \n",
       "\n",
       "        arrival_date_day_of_month  stays_in_weekend_nights  \\\n",
       "count               119390.000000            119390.000000   \n",
       "unique                        NaN                      NaN   \n",
       "top                           NaN                      NaN   \n",
       "freq                          NaN                      NaN   \n",
       "mean                    15.798241                 0.927599   \n",
       "std                      8.780829                 0.998613   \n",
       "min                      1.000000                 0.000000   \n",
       "25%                      8.000000                 0.000000   \n",
       "50%                     16.000000                 1.000000   \n",
       "75%                     23.000000                 2.000000   \n",
       "max                     31.000000                19.000000   \n",
       "\n",
       "        stays_in_week_nights         adults       children         babies  \\\n",
       "count          119390.000000  119390.000000  119386.000000  119390.000000   \n",
       "unique                   NaN            NaN            NaN            NaN   \n",
       "top                      NaN            NaN            NaN            NaN   \n",
       "freq                     NaN            NaN            NaN            NaN   \n",
       "mean                2.500302       1.856403       0.103890       0.007949   \n",
       "std                 1.908286       0.579261       0.398561       0.097436   \n",
       "min                 0.000000       0.000000       0.000000       0.000000   \n",
       "25%                 1.000000       2.000000       0.000000       0.000000   \n",
       "50%                 2.000000       2.000000       0.000000       0.000000   \n",
       "75%                 3.000000       2.000000       0.000000       0.000000   \n",
       "max                50.000000      55.000000      10.000000      10.000000   \n",
       "\n",
       "          meal country market_segment distribution_channel  is_repeated_guest  \\\n",
       "count   119390  118902         119390               119390      119390.000000   \n",
       "unique       5     177              8                    5                NaN   \n",
       "top         BB     PRT      Online TA                TA/TO                NaN   \n",
       "freq     92310   48590          56477                97870                NaN   \n",
       "mean       NaN     NaN            NaN                  NaN           0.031912   \n",
       "std        NaN     NaN            NaN                  NaN           0.175767   \n",
       "min        NaN     NaN            NaN                  NaN           0.000000   \n",
       "25%        NaN     NaN            NaN                  NaN           0.000000   \n",
       "50%        NaN     NaN            NaN                  NaN           0.000000   \n",
       "75%        NaN     NaN            NaN                  NaN           0.000000   \n",
       "max        NaN     NaN            NaN                  NaN           1.000000   \n",
       "\n",
       "        previous_cancellations  previous_bookings_not_canceled  \\\n",
       "count            119390.000000                   119390.000000   \n",
       "unique                     NaN                             NaN   \n",
       "top                        NaN                             NaN   \n",
       "freq                       NaN                             NaN   \n",
       "mean                  0.087118                        0.137097   \n",
       "std                   0.844336                        1.497437   \n",
       "min                   0.000000                        0.000000   \n",
       "25%                   0.000000                        0.000000   \n",
       "50%                   0.000000                        0.000000   \n",
       "75%                   0.000000                        0.000000   \n",
       "max                  26.000000                       72.000000   \n",
       "\n",
       "       reserved_room_type assigned_room_type  booking_changes deposit_type  \\\n",
       "count              119390             119390    119390.000000       119390   \n",
       "unique                 10                 12              NaN            3   \n",
       "top                     A                  A              NaN   No Deposit   \n",
       "freq                85994              74053              NaN       104641   \n",
       "mean                  NaN                NaN         0.221124          NaN   \n",
       "std                   NaN                NaN         0.652306          NaN   \n",
       "min                   NaN                NaN         0.000000          NaN   \n",
       "25%                   NaN                NaN         0.000000          NaN   \n",
       "50%                   NaN                NaN         0.000000          NaN   \n",
       "75%                   NaN                NaN         0.000000          NaN   \n",
       "max                   NaN                NaN        21.000000          NaN   \n",
       "\n",
       "                agent      company  days_in_waiting_list customer_type  \\\n",
       "count   103050.000000  6797.000000         119390.000000        119390   \n",
       "unique            NaN          NaN                   NaN             4   \n",
       "top               NaN          NaN                   NaN     Transient   \n",
       "freq              NaN          NaN                   NaN         89613   \n",
       "mean        86.693382   189.266735              2.321149           NaN   \n",
       "std        110.774548   131.655015             17.594721           NaN   \n",
       "min          1.000000     6.000000              0.000000           NaN   \n",
       "25%          9.000000    62.000000              0.000000           NaN   \n",
       "50%         14.000000   179.000000              0.000000           NaN   \n",
       "75%        229.000000   270.000000              0.000000           NaN   \n",
       "max        535.000000   543.000000            391.000000           NaN   \n",
       "\n",
       "                  adr  required_car_parking_spaces  total_of_special_requests  \\\n",
       "count   119390.000000                119390.000000              119390.000000   \n",
       "unique            NaN                          NaN                        NaN   \n",
       "top               NaN                          NaN                        NaN   \n",
       "freq              NaN                          NaN                        NaN   \n",
       "mean       101.831122                     0.062518                   0.571363   \n",
       "std         50.535790                     0.245291                   0.792798   \n",
       "min         -6.380000                     0.000000                   0.000000   \n",
       "25%         69.290000                     0.000000                   0.000000   \n",
       "50%         94.575000                     0.000000                   0.000000   \n",
       "75%        126.000000                     0.000000                   1.000000   \n",
       "max       5400.000000                     8.000000                   5.000000   \n",
       "\n",
       "       reservation_status reservation_status_date  \n",
       "count              119390                  119390  \n",
       "unique                  3                     926  \n",
       "top             Check-Out              2015-10-21  \n",
       "freq                75166                    1461  \n",
       "mean                  NaN                     NaN  \n",
       "std                   NaN                     NaN  \n",
       "min                   NaN                     NaN  \n",
       "25%                   NaN                     NaN  \n",
       "50%                   NaN                     NaN  \n",
       "75%                   NaN                     NaN  \n",
       "max                   NaN                     NaN  "
      ]
     },
     "execution_count": 100,
     "metadata": {},
     "output_type": "execute_result"
    }
   ],
   "source": [
    "data.describe(include='all')"
   ]
  },
  {
   "cell_type": "markdown",
   "metadata": {},
   "source": [
    "__Drop unnecessary variables:__ "
   ]
  },
  {
   "cell_type": "code",
   "execution_count": 101,
   "metadata": {},
   "outputs": [],
   "source": [
    "data.drop(columns=['company', 'reservation_status_date'], inplace=True)\n",
    "#data = data.drop('company', 1)    # drop company variable (94% of items missing for this column)\n",
    "#data = data.drop('reservation_status_date', 1)   # drop reservation_status_date (essentially the same as arrival date)"
   ]
  },
  {
   "cell_type": "markdown",
   "metadata": {},
   "source": [
    "__Replace missing values:__"
   ]
  },
  {
   "cell_type": "code",
   "execution_count": 102,
   "metadata": {},
   "outputs": [],
   "source": [
    "# for missing children values, assume zero children\n",
    "# for missing country, replace with \"Unknown\"\n",
    "# if travel agency is missing, replace with zero (customer most likely did not use a booking agent)\n",
    "# if is company missing, replace with zero (most likely was private)\n",
    "\n",
    "null_replacements = {\"children\": 0.0, \"country\": \"Unknown\", \"agent\": 0}\n",
    "\n",
    "data = data.fillna(null_replacements)"
   ]
  },
  {
   "cell_type": "markdown",
   "metadata": {},
   "source": [
    "__Replace all meal values listed as 'Undefined' with 'SC':__"
   ]
  },
  {
   "cell_type": "code",
   "execution_count": 103,
   "metadata": {},
   "outputs": [],
   "source": [
    "data['meal'].replace('Undefined', 'SC', inplace=True)  # dataset detail mentions these are the same"
   ]
  },
  {
   "cell_type": "markdown",
   "metadata": {},
   "source": [
    "__Drop rows that have values of 0 adults, 0 children, and 0 babies listed (no guests):__"
   ]
  },
  {
   "cell_type": "code",
   "execution_count": 104,
   "metadata": {},
   "outputs": [],
   "source": [
    "# some rows have zero guests listed: drop these observations\n",
    "\n",
    "no_guests = list(data.loc[data['adults']\n",
    "                   + data['children']\n",
    "                   + data['babies']==0].index)\n",
    "\n",
    "data.drop(data.index[no_guests], inplace=True)"
   ]
  },
  {
   "cell_type": "code",
   "execution_count": 105,
   "metadata": {},
   "outputs": [
    {
     "data": {
      "text/plain": [
       "(119210, 30)"
      ]
     },
     "execution_count": 105,
     "metadata": {},
     "output_type": "execute_result"
    }
   ],
   "source": [
    "data.shape   # see how many rows were removed"
   ]
  },
  {
   "cell_type": "markdown",
   "metadata": {},
   "source": [
    "## Explore Data (EDA):"
   ]
  },
  {
   "cell_type": "markdown",
   "metadata": {},
   "source": [
    "__Separate by variable type:__"
   ]
  },
  {
   "cell_type": "code",
   "execution_count": 106,
   "metadata": {},
   "outputs": [],
   "source": [
    "#categorical vars\n",
    "cats = ['agent', 'arrival_date_year', 'arrival_date_day_of_month', 'arrival_date_week_number', 'arrival_date_month', 'is_repeated_guest', 'distribution_channel', 'is_canceled', 'hotel', 'meal', 'country', 'market_segment', 'reserved_room_type', 'assigned_room_type', 'deposit_type', 'customer_type', 'reservation_status']\n",
    "#continuous vars\n",
    "cont = ['lead_time', 'stays_in_weekend_nights', 'stays_in_week_nights', 'adults', 'children', 'babies', 'previous_cancellations', 'previous_bookings_not_canceled', 'booking_changes', 'days_in_waiting_list', 'adr', 'required_car_parking_spaces', 'total_of_special_requests']"
   ]
  },
  {
   "cell_type": "markdown",
   "metadata": {},
   "source": [
    "### Continuous Variables"
   ]
  },
  {
   "cell_type": "markdown",
   "metadata": {},
   "source": [
    "__Histograms showing distribution of continuous variables:__"
   ]
  },
  {
   "cell_type": "code",
   "execution_count": 107,
   "metadata": {},
   "outputs": [
    {
     "data": {
      "image/png": "[encoded data removed]",
      "text/plain": [
       "<Figure size 1152x1800 with 14 Axes>"
      ]
     },
     "metadata": {
      "needs_background": "light"
     },
     "output_type": "display_data"
    }
   ],
   "source": [
    "fig, ax = plt.subplots(figsize=(16, 25))\n",
    "ax.axis('off')\n",
    "fig.tight_layout()\n",
    "for idx, i in enumerate(cont):\n",
    "    fig.add_subplot(5,3,idx+1)\n",
    "    plt.hist(data[i], bins = 50)\n",
    "    plt.yticks([])\n",
    "    plt.title(i.upper())"
   ]
  },
  {
   "cell_type": "markdown",
   "metadata": {},
   "source": [
    "We can see from the histograms above that most of our continuous variables are highly skewed to the right. We will have to attempt to normalize these."
   ]
  },
  {
   "cell_type": "markdown",
   "metadata": {},
   "source": [
    "#### Showing Percentage of top 5 most common values in continuous variables:\n"
   ]
  },
  {
   "cell_type": "code",
   "execution_count": 108,
   "metadata": {},
   "outputs": [
    {
     "name": "stdout",
     "output_type": "stream",
     "text": [
      "LEAD_TIME\n",
      "0    5.254593\n",
      "1    2.889858\n",
      "2    1.732237\n",
      "3    1.522523\n",
      "4    1.434443\n",
      "Name: lead_time, dtype: float64\n",
      "\n",
      "STAYS_IN_WEEKEND_NIGHTS\n",
      "0    43.532422\n",
      "2    27.905377\n",
      "1    25.681570\n",
      "4     1.549367\n",
      "3     1.050247\n",
      "Name: stays_in_weekend_nights, dtype: float64\n",
      "\n",
      "STAYS_IN_WEEK_NIGHTS\n",
      "2    28.244275\n",
      "1    25.410620\n",
      "3    18.656992\n",
      "5     9.284456\n",
      "4     8.005201\n",
      "Name: stays_in_week_nights, dtype: float64\n",
      "\n",
      "ADULTS\n",
      "2    75.228588\n",
      "1    19.316333\n",
      "3     5.202584\n",
      "0     0.187065\n",
      "4     0.052009\n",
      "Name: adults, dtype: float64\n",
      "\n",
      "CHILDREN\n",
      "0.0    92.794229\n",
      "1.0     4.077678\n",
      "2.0     3.063501\n",
      "3.0     0.063753\n",
      "Name: children, dtype: float64\n",
      "\n",
      "BABIES\n",
      "0     99.230769\n",
      "1      0.754970\n",
      "2      0.012583\n",
      "10     0.000839\n",
      "9      0.000839\n",
      "Name: babies, dtype: float64\n",
      "\n",
      "PREVIOUS_CANCELLATIONS\n",
      "0     94.565053\n",
      "1      5.073400\n",
      "2      0.095630\n",
      "3      0.054526\n",
      "24     0.040265\n",
      "Name: previous_cancellations, dtype: float64\n",
      "\n",
      "PREVIOUS_BOOKINGS_NOT_CANCELED\n",
      "0    96.969214\n",
      "1     1.290160\n",
      "2     0.486536\n",
      "3     0.279339\n",
      "4     0.192098\n",
      "Name: previous_bookings_not_canceled, dtype: float64\n",
      "\n",
      "BOOKING_CHANGES\n",
      "0    84.919050\n",
      "1    10.624948\n",
      "2     3.170875\n",
      "3     0.766714\n",
      "4     0.307860\n",
      "Name: booking_changes, dtype: float64\n",
      "\n",
      "DAYS_IN_WAITING_LIST\n",
      "0     96.902106\n",
      "39     0.190420\n",
      "58     0.137572\n",
      "44     0.118279\n",
      "31     0.106535\n",
      "Name: days_in_waiting_list, dtype: float64\n",
      "\n",
      "ADR\n",
      "62.00     3.149065\n",
      "75.00     2.277493\n",
      "90.00     2.073652\n",
      "65.00     2.028353\n",
      "80.00     1.584599\n",
      "            ...   \n",
      "196.34    0.000839\n",
      "186.02    0.000839\n",
      "222.17    0.000839\n",
      "46.65     0.000839\n",
      "5.00      0.000839\n",
      "Name: adr, Length: 8412, dtype: float64\n",
      "\n",
      "REQUIRED_CAR_PARKING_SPACES\n",
      "0    93.784917\n",
      "1     6.187400\n",
      "2     0.023488\n",
      "3     0.002517\n",
      "8     0.001678\n",
      "Name: required_car_parking_spaces, dtype: float64\n",
      "\n",
      "TOTAL_OF_SPECIAL_REQUESTS\n",
      "0    58.888516\n",
      "1    27.835752\n",
      "2    10.864860\n",
      "3     2.092106\n",
      "4     0.285211\n",
      "Name: total_of_special_requests, dtype: float64\n",
      "\n"
     ]
    }
   ],
   "source": [
    "for i in cont:\n",
    "    print(i.upper())\n",
    "    print(data[i].value_counts(normalize=True)[:5]*100)\n",
    "    print()"
   ]
  },
  {
   "cell_type": "markdown",
   "metadata": {},
   "source": [
    "Children, babies, previous_cancelations, previous_bookings_not_cancelled, days_in_waiting_list, required_parking_spaces all have >90% of instances in most common value (babies > 99%). Should consider which are useful."
   ]
  },
  {
   "cell_type": "markdown",
   "metadata": {},
   "source": [
    "### Correlation heat map for continuous variables:"
   ]
  },
  {
   "cell_type": "code",
   "execution_count": 109,
   "metadata": {},
   "outputs": [
    {
     "data": {
      "text/plain": [
       "<AxesSubplot:>"
      ]
     },
     "execution_count": 109,
     "metadata": {},
     "output_type": "execute_result"
    },
    {
     "data": {
      "image/png": "[encoded data removed]",
      "text/plain": [
       "<Figure size 720x720 with 2 Axes>"
      ]
     },
     "metadata": {
      "needs_background": "light"
     },
     "output_type": "display_data"
    }
   ],
   "source": [
    "fig, ax = plt.subplots(figsize=(10, 10))\n",
    "sns.heatmap(data[cont].corr(), annot=True, square=True, vmin=0, vmax=0.5)"
   ]
  },
  {
   "cell_type": "markdown",
   "metadata": {},
   "source": [
    "- Highest correlation is 0.49\n",
    "- Few variable pairs have correlation above 0.1"
   ]
  },
  {
   "cell_type": "markdown",
   "metadata": {},
   "source": [
    "### Print variable pairs with correlation values over threshold:"
   ]
  },
  {
   "cell_type": "code",
   "execution_count": 110,
   "metadata": {},
   "outputs": [
    {
     "name": "stdout",
     "output_type": "stream",
     "text": [
      "['adr', 'adults']\n",
      "\n",
      "['adr', 'children']\n",
      "\n",
      "['adr', 'total_of_special_requests']\n",
      "\n",
      "['adults', 'lead_time']\n",
      "\n",
      "['adults', 'previous_bookings_not_canceled']\n",
      "\n",
      "['adults', 'total_of_special_requests']\n",
      "\n",
      "['days_in_waiting_list', 'lead_time']\n",
      "\n",
      "['lead_time', 'required_car_parking_spaces']\n",
      "\n",
      "['lead_time', 'stays_in_week_nights']\n",
      "\n",
      "['previous_bookings_not_canceled', 'previous_cancellations']\n",
      "\n",
      "['stays_in_week_nights', 'stays_in_weekend_nights']\n",
      "\n"
     ]
    }
   ],
   "source": [
    "corr = data[cont].corr()\n",
    "high = []\n",
    "thresh = 0.1 # threshhold\n",
    "for i in range(corr.shape[0]):\n",
    "    for a in range(corr.shape[1]):\n",
    "        if (corr.iloc[i,a] > thresh and corr.iloc[i,a] != 1) or\\\n",
    "            (corr.iloc[i,a] < -thresh and corr.iloc[i,a] != 1):\n",
    "            high.append(sorted([corr.index[i], corr.index[a]]))\n",
    "high2 = []\n",
    "for i in high:\n",
    "    if i not in high2:\n",
    "        high2.append(i)\n",
    "for i in sorted(high2):\n",
    "    print(i)\n",
    "    print()"
   ]
  },
  {
   "cell_type": "markdown",
   "metadata": {},
   "source": [
    "__Drop outlier:__"
   ]
  },
  {
   "cell_type": "code",
   "execution_count": 111,
   "metadata": {},
   "outputs": [
    {
     "data": {
      "text/html": [
       "<div>\n",
       "<style scoped>\n",
       "    .dataframe tbody tr th:only-of-type {\n",
       "        vertical-align: middle;\n",
       "    }\n",
       "\n",
       "    .dataframe tbody tr th {\n",
       "        vertical-align: top;\n",
       "    }\n",
       "\n",
       "    .dataframe thead th {\n",
       "        text-align: right;\n",
       "    }\n",
       "</style>\n",
       "<table border=\"1\" class=\"dataframe\">\n",
       "  <thead>\n",
       "    <tr style=\"text-align: right;\">\n",
       "      <th></th>\n",
       "      <th>hotel</th>\n",
       "      <th>is_canceled</th>\n",
       "      <th>lead_time</th>\n",
       "      <th>arrival_date_year</th>\n",
       "      <th>arrival_date_month</th>\n",
       "      <th>arrival_date_week_number</th>\n",
       "      <th>arrival_date_day_of_month</th>\n",
       "      <th>stays_in_weekend_nights</th>\n",
       "      <th>stays_in_week_nights</th>\n",
       "      <th>adults</th>\n",
       "      <th>children</th>\n",
       "      <th>babies</th>\n",
       "      <th>meal</th>\n",
       "      <th>country</th>\n",
       "      <th>market_segment</th>\n",
       "      <th>distribution_channel</th>\n",
       "      <th>is_repeated_guest</th>\n",
       "      <th>previous_cancellations</th>\n",
       "      <th>previous_bookings_not_canceled</th>\n",
       "      <th>reserved_room_type</th>\n",
       "      <th>assigned_room_type</th>\n",
       "      <th>booking_changes</th>\n",
       "      <th>deposit_type</th>\n",
       "      <th>agent</th>\n",
       "      <th>days_in_waiting_list</th>\n",
       "      <th>customer_type</th>\n",
       "      <th>adr</th>\n",
       "      <th>required_car_parking_spaces</th>\n",
       "      <th>total_of_special_requests</th>\n",
       "      <th>reservation_status</th>\n",
       "    </tr>\n",
       "  </thead>\n",
       "  <tbody>\n",
       "    <tr>\n",
       "      <th>48515</th>\n",
       "      <td>City Hotel</td>\n",
       "      <td>1</td>\n",
       "      <td>35</td>\n",
       "      <td>2016</td>\n",
       "      <td>March</td>\n",
       "      <td>13</td>\n",
       "      <td>25</td>\n",
       "      <td>0</td>\n",
       "      <td>1</td>\n",
       "      <td>2</td>\n",
       "      <td>0.0</td>\n",
       "      <td>0</td>\n",
       "      <td>BB</td>\n",
       "      <td>PRT</td>\n",
       "      <td>Offline TA/TO</td>\n",
       "      <td>TA/TO</td>\n",
       "      <td>0</td>\n",
       "      <td>0</td>\n",
       "      <td>0</td>\n",
       "      <td>A</td>\n",
       "      <td>A</td>\n",
       "      <td>1</td>\n",
       "      <td>Non Refund</td>\n",
       "      <td>12.0</td>\n",
       "      <td>0</td>\n",
       "      <td>Transient</td>\n",
       "      <td>5400.0</td>\n",
       "      <td>0</td>\n",
       "      <td>0</td>\n",
       "      <td>Canceled</td>\n",
       "    </tr>\n",
       "  </tbody>\n",
       "</table>\n",
       "</div>"
      ],
      "text/plain": [
       "            hotel  is_canceled  lead_time  arrival_date_year  \\\n",
       "48515  City Hotel            1         35               2016   \n",
       "\n",
       "      arrival_date_month  arrival_date_week_number  arrival_date_day_of_month  \\\n",
       "48515              March                        13                         25   \n",
       "\n",
       "       stays_in_weekend_nights  stays_in_week_nights  adults  children  \\\n",
       "48515                        0                     1       2       0.0   \n",
       "\n",
       "       babies meal country market_segment distribution_channel  \\\n",
       "48515       0   BB     PRT  Offline TA/TO                TA/TO   \n",
       "\n",
       "       is_repeated_guest  previous_cancellations  \\\n",
       "48515                  0                       0   \n",
       "\n",
       "       previous_bookings_not_canceled reserved_room_type assigned_room_type  \\\n",
       "48515                               0                  A                  A   \n",
       "\n",
       "       booking_changes deposit_type  agent  days_in_waiting_list  \\\n",
       "48515                1   Non Refund   12.0                     0   \n",
       "\n",
       "      customer_type     adr  required_car_parking_spaces  \\\n",
       "48515     Transient  5400.0                            0   \n",
       "\n",
       "       total_of_special_requests reservation_status  \n",
       "48515                          0           Canceled  "
      ]
     },
     "execution_count": 111,
     "metadata": {},
     "output_type": "execute_result"
    }
   ],
   "source": [
    "data[data['adr']>5000]"
   ]
  },
  {
   "cell_type": "code",
   "execution_count": 112,
   "metadata": {},
   "outputs": [],
   "source": [
    "data.drop([48515], axis=0, inplace=True) # drop single row with adr > 5000 b/c it is an outlier"
   ]
  },
  {
   "cell_type": "markdown",
   "metadata": {},
   "source": [
    "### Categorical Variables"
   ]
  },
  {
   "cell_type": "markdown",
   "metadata": {},
   "source": [
    "#### Bar plots showing distribution of categorical variables:"
   ]
  },
  {
   "cell_type": "code",
   "execution_count": 113,
   "metadata": {},
   "outputs": [
    {
     "data": {
      "image/png": "[encoded data removed]",
      "text/plain": [
       "<Figure size 1152x1440 with 18 Axes>"
      ]
     },
     "metadata": {
      "needs_background": "light"
     },
     "output_type": "display_data"
    }
   ],
   "source": [
    "month_abv = {'January': 'Jan', 'February': 'Feb', 'March': 'Mar', 'April': 'Apr', 'June': 'Jun', 'July': 'Jul', 'August': 'Aug', 'September': 'Sept', 'October': 'Oct', 'November': 'Nov', 'December': 'Dec'}\n",
    "data = data.replace(month_abv)\n",
    "\n",
    "market_seg = {'Aviation': 'Air', 'Corporate': 'Corp', 'Direct': 'Dir', 'Undefined': 'Undef', 'Groups': 'Group', 'Offline TA/TO': 'Off TA/TO', 'Online TA': 'On TA', 'Complementary': 'Comp'}\n",
    "data = data.replace(market_seg)\n",
    "\n",
    "fig, ax = plt.subplots(figsize=(16, 20))\n",
    "ax.axis('off')\n",
    "fig.tight_layout()\n",
    "for idx, i in enumerate(cats):\n",
    "    labels = list(data[i].value_counts().index)\n",
    "    values = list(data[i].value_counts())\n",
    "    fig.add_subplot(6,3,idx+1)\n",
    "    plt.bar(labels, values)\n",
    "    plt.xticks(labels)\n",
    "    plt.yticks([])\n",
    "    plt.title(i.upper())\n",
    "    \n",
    "# variable name above plot"
   ]
  },
  {
   "cell_type": "markdown",
   "metadata": {},
   "source": [
    "From the above bar plots of the categorical variables, we can see that the three summer months of August, July, and May had the highest number of hotel bookings. We can see that most guests only had a breakfast (BB) meal type booked. The TA/TO market segment appears to be the most prevalent.  Moreover, the most popular room type reserved (and assigned) was room A.  Most guests did not provide a desposit and were labeled as transient (as opposed to contract or group) customer types. Furthermore, the target variables hotel and is_cancelled that we will attempt to perform classification modeling techniques on do not appear to be too unbalanced."
   ]
  },
  {
   "cell_type": "markdown",
   "metadata": {},
   "source": [
    "__Look at the top ten countries hotel guests came from:__"
   ]
  },
  {
   "cell_type": "code",
   "execution_count": 114,
   "metadata": {},
   "outputs": [
    {
     "data": {
      "image/png": "[encoded data removed]",
      "text/plain": [
       "<Figure size 576x360 with 1 Axes>"
      ]
     },
     "metadata": {
      "needs_background": "light"
     },
     "output_type": "display_data"
    }
   ],
   "source": [
    "country = data.country.value_counts()\n",
    "\n",
    "countries = pd.DataFrame({'country':country.index, 'count':country.values})\n",
    "countries = countries.head(10)\n",
    "\n",
    "plt.figure(figsize = (8,5))\n",
    "sns.set(style = 'darkgrid')\n",
    "sns.barplot(x = 'country', y = 'count', data = countries)\n",
    "plt.ylabel('Count')\n",
    "plt.xlabel('Country')\n",
    "plt.title('Top Ten Countries Guests Came From', fontsize = 16)\n",
    "plt.show()"
   ]
  },
  {
   "cell_type": "markdown",
   "metadata": {},
   "source": [
    "The vast majority of hotel guests came from Portugal.  This intuitively makes sense, as both of the hotels in this data set are located in Portugal.  A large number of guests also came from Great Britain, France, Spain, and Germany (other European countries)."
   ]
  },
  {
   "cell_type": "markdown",
   "metadata": {},
   "source": [
    "#### Boxplots for categorical variables showing differences with respect to average daily rate (adr):"
   ]
  },
  {
   "cell_type": "code",
   "execution_count": 115,
   "metadata": {},
   "outputs": [
    {
     "data": {
      "image/png": "[encoded data removed]",
      "text/plain": [
       "<Figure size 1152x1440 with 18 Axes>"
      ]
     },
     "metadata": {},
     "output_type": "display_data"
    }
   ],
   "source": [
    "fig, ax = plt.subplots(figsize=(16, 20))\n",
    "ax.axis('off')\n",
    "fig.tight_layout()\n",
    "for idx, i in enumerate(cats):\n",
    "    series = data.groupby([i])['adr']\n",
    "    fig.add_subplot(6,3,idx+1)\n",
    "    sns.boxplot(y=data['adr'], x=data[i])\n",
    "\n",
    "# variable name below plot"
   ]
  },
  {
   "cell_type": "markdown",
   "metadata": {},
   "source": [
    "- We can see that some categorical variables have a relationship to the average daily rate, adr (arrival_date_week/month, is_repeated_guest, distribution_channel, market_segment, reserved_room_type, assigned_room_type) because the 'box' (Q1, Q2, Q3) vary based on category for that variable\n",
    "- The other variables do not show large differences with respect to average daily rate"
   ]
  },
  {
   "cell_type": "markdown",
   "metadata": {},
   "source": [
    "- Can see that there are very few samples for assigned_room_type = L and market_segment = Undef (Undefined)"
   ]
  },
  {
   "cell_type": "code",
   "execution_count": 116,
   "metadata": {},
   "outputs": [
    {
     "data": {
      "text/plain": [
       "A    74019\n",
       "D    25309\n",
       "E     7798\n",
       "F     3751\n",
       "G     2549\n",
       "C     2370\n",
       "B     2154\n",
       "H      712\n",
       "I      359\n",
       "K      187\n",
       "L        1\n",
       "Name: assigned_room_type, dtype: int64"
      ]
     },
     "execution_count": 116,
     "metadata": {},
     "output_type": "execute_result"
    }
   ],
   "source": [
    "data.assigned_room_type.value_counts()"
   ]
  },
  {
   "cell_type": "code",
   "execution_count": 117,
   "metadata": {},
   "outputs": [
    {
     "data": {
      "text/plain": [
       "On TA        56408\n",
       "Off TA/TO    24181\n",
       "Group        19791\n",
       "Dir          12582\n",
       "Corp          5282\n",
       "Comp           728\n",
       "Air            235\n",
       "Undef            2\n",
       "Name: market_segment, dtype: int64"
      ]
     },
     "execution_count": 117,
     "metadata": {},
     "output_type": "execute_result"
    }
   ],
   "source": [
    "data.market_segment.value_counts()"
   ]
  },
  {
   "cell_type": "markdown",
   "metadata": {},
   "source": [
    "- Actually only 1 sample for assigned_room_type = L and 2 samples for market_segment = Undef so we will remove them from the data"
   ]
  },
  {
   "cell_type": "code",
   "execution_count": 118,
   "metadata": {},
   "outputs": [
    {
     "data": {
      "text/html": [
       "<div>\n",
       "<style scoped>\n",
       "    .dataframe tbody tr th:only-of-type {\n",
       "        vertical-align: middle;\n",
       "    }\n",
       "\n",
       "    .dataframe tbody tr th {\n",
       "        vertical-align: top;\n",
       "    }\n",
       "\n",
       "    .dataframe thead th {\n",
       "        text-align: right;\n",
       "    }\n",
       "</style>\n",
       "<table border=\"1\" class=\"dataframe\">\n",
       "  <thead>\n",
       "    <tr style=\"text-align: right;\">\n",
       "      <th></th>\n",
       "      <th>hotel</th>\n",
       "      <th>is_canceled</th>\n",
       "      <th>lead_time</th>\n",
       "      <th>arrival_date_year</th>\n",
       "      <th>arrival_date_month</th>\n",
       "      <th>arrival_date_week_number</th>\n",
       "      <th>arrival_date_day_of_month</th>\n",
       "      <th>stays_in_weekend_nights</th>\n",
       "      <th>stays_in_week_nights</th>\n",
       "      <th>adults</th>\n",
       "      <th>children</th>\n",
       "      <th>babies</th>\n",
       "      <th>meal</th>\n",
       "      <th>country</th>\n",
       "      <th>market_segment</th>\n",
       "      <th>distribution_channel</th>\n",
       "      <th>is_repeated_guest</th>\n",
       "      <th>previous_cancellations</th>\n",
       "      <th>previous_bookings_not_canceled</th>\n",
       "      <th>reserved_room_type</th>\n",
       "      <th>assigned_room_type</th>\n",
       "      <th>booking_changes</th>\n",
       "      <th>deposit_type</th>\n",
       "      <th>agent</th>\n",
       "      <th>days_in_waiting_list</th>\n",
       "      <th>customer_type</th>\n",
       "      <th>adr</th>\n",
       "      <th>required_car_parking_spaces</th>\n",
       "      <th>total_of_special_requests</th>\n",
       "      <th>reservation_status</th>\n",
       "    </tr>\n",
       "  </thead>\n",
       "  <tbody>\n",
       "    <tr>\n",
       "      <th>14381</th>\n",
       "      <td>Resort Hotel</td>\n",
       "      <td>1</td>\n",
       "      <td>0</td>\n",
       "      <td>2015</td>\n",
       "      <td>Jul</td>\n",
       "      <td>29</td>\n",
       "      <td>17</td>\n",
       "      <td>0</td>\n",
       "      <td>1</td>\n",
       "      <td>2</td>\n",
       "      <td>0.0</td>\n",
       "      <td>0</td>\n",
       "      <td>BB</td>\n",
       "      <td>PRT</td>\n",
       "      <td>Dir</td>\n",
       "      <td>Dir</td>\n",
       "      <td>0</td>\n",
       "      <td>1</td>\n",
       "      <td>2</td>\n",
       "      <td>L</td>\n",
       "      <td>L</td>\n",
       "      <td>0</td>\n",
       "      <td>No Deposit</td>\n",
       "      <td>0.0</td>\n",
       "      <td>0</td>\n",
       "      <td>Transient</td>\n",
       "      <td>8.0</td>\n",
       "      <td>0</td>\n",
       "      <td>0</td>\n",
       "      <td>Canceled</td>\n",
       "    </tr>\n",
       "    <tr>\n",
       "      <th>40600</th>\n",
       "      <td>City Hotel</td>\n",
       "      <td>1</td>\n",
       "      <td>2</td>\n",
       "      <td>2015</td>\n",
       "      <td>Aug</td>\n",
       "      <td>32</td>\n",
       "      <td>3</td>\n",
       "      <td>1</td>\n",
       "      <td>0</td>\n",
       "      <td>2</td>\n",
       "      <td>0.0</td>\n",
       "      <td>0</td>\n",
       "      <td>BB</td>\n",
       "      <td>PRT</td>\n",
       "      <td>Undef</td>\n",
       "      <td>Undef</td>\n",
       "      <td>0</td>\n",
       "      <td>0</td>\n",
       "      <td>0</td>\n",
       "      <td>B</td>\n",
       "      <td>B</td>\n",
       "      <td>0</td>\n",
       "      <td>No Deposit</td>\n",
       "      <td>0.0</td>\n",
       "      <td>0</td>\n",
       "      <td>Transient-Party</td>\n",
       "      <td>12.0</td>\n",
       "      <td>0</td>\n",
       "      <td>1</td>\n",
       "      <td>Canceled</td>\n",
       "    </tr>\n",
       "    <tr>\n",
       "      <th>40679</th>\n",
       "      <td>City Hotel</td>\n",
       "      <td>1</td>\n",
       "      <td>1</td>\n",
       "      <td>2015</td>\n",
       "      <td>Aug</td>\n",
       "      <td>32</td>\n",
       "      <td>5</td>\n",
       "      <td>0</td>\n",
       "      <td>2</td>\n",
       "      <td>3</td>\n",
       "      <td>0.0</td>\n",
       "      <td>0</td>\n",
       "      <td>BB</td>\n",
       "      <td>PRT</td>\n",
       "      <td>Undef</td>\n",
       "      <td>Undef</td>\n",
       "      <td>0</td>\n",
       "      <td>0</td>\n",
       "      <td>0</td>\n",
       "      <td>B</td>\n",
       "      <td>B</td>\n",
       "      <td>0</td>\n",
       "      <td>No Deposit</td>\n",
       "      <td>0.0</td>\n",
       "      <td>0</td>\n",
       "      <td>Transient-Party</td>\n",
       "      <td>18.0</td>\n",
       "      <td>0</td>\n",
       "      <td>2</td>\n",
       "      <td>Canceled</td>\n",
       "    </tr>\n",
       "  </tbody>\n",
       "</table>\n",
       "</div>"
      ],
      "text/plain": [
       "              hotel  is_canceled  lead_time  arrival_date_year  \\\n",
       "14381  Resort Hotel            1          0               2015   \n",
       "40600    City Hotel            1          2               2015   \n",
       "40679    City Hotel            1          1               2015   \n",
       "\n",
       "      arrival_date_month  arrival_date_week_number  arrival_date_day_of_month  \\\n",
       "14381                Jul                        29                         17   \n",
       "40600                Aug                        32                          3   \n",
       "40679                Aug                        32                          5   \n",
       "\n",
       "       stays_in_weekend_nights  stays_in_week_nights  adults  children  \\\n",
       "14381                        0                     1       2       0.0   \n",
       "40600                        1                     0       2       0.0   \n",
       "40679                        0                     2       3       0.0   \n",
       "\n",
       "       babies meal country market_segment distribution_channel  \\\n",
       "14381       0   BB     PRT            Dir                  Dir   \n",
       "40600       0   BB     PRT          Undef                Undef   \n",
       "40679       0   BB     PRT          Undef                Undef   \n",
       "\n",
       "       is_repeated_guest  previous_cancellations  \\\n",
       "14381                  0                       1   \n",
       "40600                  0                       0   \n",
       "40679                  0                       0   \n",
       "\n",
       "       previous_bookings_not_canceled reserved_room_type assigned_room_type  \\\n",
       "14381                               2                  L                  L   \n",
       "40600                               0                  B                  B   \n",
       "40679                               0                  B                  B   \n",
       "\n",
       "       booking_changes deposit_type  agent  days_in_waiting_list  \\\n",
       "14381                0   No Deposit    0.0                     0   \n",
       "40600                0   No Deposit    0.0                     0   \n",
       "40679                0   No Deposit    0.0                     0   \n",
       "\n",
       "         customer_type   adr  required_car_parking_spaces  \\\n",
       "14381        Transient   8.0                            0   \n",
       "40600  Transient-Party  12.0                            0   \n",
       "40679  Transient-Party  18.0                            0   \n",
       "\n",
       "       total_of_special_requests reservation_status  \n",
       "14381                          0           Canceled  \n",
       "40600                          1           Canceled  \n",
       "40679                          2           Canceled  "
      ]
     },
     "execution_count": 118,
     "metadata": {},
     "output_type": "execute_result"
    }
   ],
   "source": [
    "data[(data['assigned_room_type']== 'L') | (data['market_segment']== 'Undef')] # find index for those samples"
   ]
  },
  {
   "cell_type": "code",
   "execution_count": 119,
   "metadata": {},
   "outputs": [],
   "source": [
    "data.drop([14381, 40600, 40679], axis=0, inplace=True) # remove those samples"
   ]
  },
  {
   "cell_type": "markdown",
   "metadata": {},
   "source": [
    "### Exploring the agent variable by average adr:"
   ]
  },
  {
   "cell_type": "code",
   "execution_count": 120,
   "metadata": {},
   "outputs": [
    {
     "data": {
      "text/plain": [
       "agent\n",
       "302.0      0.000000\n",
       "45.0       2.633333\n",
       "367.0     21.000000\n",
       "321.0     22.000000\n",
       "375.0     29.887500\n",
       "            ...    \n",
       "508.0    190.691667\n",
       "433.0    193.600000\n",
       "70.0     211.330000\n",
       "426.0    238.723333\n",
       "404.0    284.200000\n",
       "Name: adr, Length: 334, dtype: float64"
      ]
     },
     "execution_count": 120,
     "metadata": {},
     "output_type": "execute_result"
    }
   ],
   "source": [
    "agent_adr = data.groupby(['agent'])['adr'].mean().sort_values() # mean adr by agent\n",
    "agent_adr"
   ]
  },
  {
   "cell_type": "code",
   "execution_count": 121,
   "metadata": {},
   "outputs": [
    {
     "data": {
      "image/png": "[encoded data removed]",
      "text/plain": [
       "<Figure size 1080x360 with 1 Axes>"
      ]
     },
     "metadata": {},
     "output_type": "display_data"
    }
   ],
   "source": [
    "# bar chart of mean adr by agent\n",
    "fig, ax = plt.subplots(figsize=(15, 5))\n",
    "plt.bar([str(i) for i in list(agent_adr.index)], list(agent_adr))\n",
    "plt.xlabel('Agent')\n",
    "plt.ylabel('Mean ADR')\n",
    "plt.title('Mean ADR for Every Agent')\n",
    "plt.show()"
   ]
  },
  {
   "cell_type": "code",
   "execution_count": 122,
   "metadata": {},
   "outputs": [
    {
     "data": {
      "text/plain": [
       "9.0      26.778853\n",
       "0.0      13.654514\n",
       "240.0    11.678942\n",
       "1.0       6.029059\n",
       "14.0      3.047665\n",
       "           ...    \n",
       "117.0     0.000839\n",
       "294.0     0.000839\n",
       "352.0     0.000839\n",
       "158.0     0.000839\n",
       "472.0     0.000839\n",
       "Name: agent, Length: 334, dtype: float64"
      ]
     },
     "execution_count": 122,
     "metadata": {},
     "output_type": "execute_result"
    }
   ],
   "source": [
    "agent_bookings = data.agent.value_counts(normalize=True)*100 # percentage of bookings for each agent\n",
    "agent_bookings"
   ]
  },
  {
   "cell_type": "code",
   "execution_count": 123,
   "metadata": {},
   "outputs": [
    {
     "data": {
      "text/plain": [
       "(50,)"
      ]
     },
     "execution_count": 123,
     "metadata": {},
     "output_type": "execute_result"
    }
   ],
   "source": [
    "(agent_bookings[agent_bookings<0.001]).shape # There are 50 agents with only 1 booking"
   ]
  },
  {
   "cell_type": "code",
   "execution_count": 124,
   "metadata": {},
   "outputs": [
    {
     "name": "stdout",
     "output_type": "stream",
     "text": [
      "99.01682801201282\n"
     ]
    },
    {
     "data": {
      "text/plain": [
       "9.0      26.778853\n",
       "0.0      13.654514\n",
       "240.0    11.678942\n",
       "1.0       6.029059\n",
       "14.0      3.047665\n",
       "           ...    \n",
       "205.0     0.022650\n",
       "323.0     0.020972\n",
       "310.0     0.020972\n",
       "153.0     0.020972\n",
       "23.0      0.020972\n",
       "Name: agent, Length: 166, dtype: float64"
      ]
     },
     "execution_count": 124,
     "metadata": {},
     "output_type": "execute_result"
    }
   ],
   "source": [
    "print(agent_bookings.iloc[:166].sum()) # 166 agents (out of 334) booked 99% of stays\n",
    "agents_reduced = agent_bookings.iloc[:166] # create series with only those 166 agents\n",
    "agents_reduced"
   ]
  },
  {
   "cell_type": "code",
   "execution_count": 125,
   "metadata": {},
   "outputs": [
    {
     "data": {
      "text/plain": [
       "45.0       2.633333\n",
       "375.0     29.887500\n",
       "332.0     42.381818\n",
       "334.0     42.611071\n",
       "185.0     42.833077\n",
       "            ...    \n",
       "149.0    132.457143\n",
       "250.0    132.605314\n",
       "235.0    140.000000\n",
       "181.0    141.596949\n",
       "254.0    154.581379\n",
       "Name: adr, Length: 166, dtype: float64"
      ]
     },
     "execution_count": 125,
     "metadata": {},
     "output_type": "execute_result"
    }
   ],
   "source": [
    "agent_adr_red = agent_adr[agents_reduced.index].sort_values() # filter 166 agents into new mean_adr variable\n",
    "agent_adr_red "
   ]
  },
  {
   "cell_type": "code",
   "execution_count": 126,
   "metadata": {},
   "outputs": [
    {
     "data": {
      "image/png": "[encoded data removed]",
      "text/plain": [
       "<Figure size 1080x360 with 1 Axes>"
      ]
     },
     "metadata": {},
     "output_type": "display_data"
    }
   ],
   "source": [
    "fig, ax = plt.subplots(figsize=(15, 5))\n",
    "plt.bar([str(i) for i in list(agent_adr_red.index)], list(agent_adr_red))\n",
    "plt.xlabel('Agent')\n",
    "plt.ylabel('Mean ADR')\n",
    "plt.title('Mean ADR for Top 166 Agents (Accounts for 99% of Bookings)')\n",
    "plt.show()"
   ]
  },
  {
   "cell_type": "markdown",
   "metadata": {},
   "source": [
    "## Convert categorical variables to numeric values and normalize the data:"
   ]
  },
  {
   "cell_type": "markdown",
   "metadata": {},
   "source": [
    "__Convert categorical variables to numeric values:__"
   ]
  },
  {
   "cell_type": "code",
   "execution_count": 127,
   "metadata": {},
   "outputs": [],
   "source": [
    "data = pd.DataFrame(data)\n",
    "\n",
    "hotel_num = {'Resort Hotel': 0, 'City Hotel': 1}\n",
    "data = data.replace(hotel_num)\n",
    "\n",
    "month_num = {'Jan': 1, 'Feb': 2, 'Mar': 3, 'Apr': 4, 'May': 5, 'Jun': 6, 'Jul': 7, 'Aug': 8, 'Sept': 9, 'Oct': 10, 'Nov': 11, 'Dec': 12}\n",
    "data = data.replace(month_num)\n",
    "\n",
    "meal_num = {'BB': 0, 'FB': 1, 'HB': 2, 'SC': 3}\n",
    "data = data.replace(meal_num)\n",
    "\n",
    "market_num = {'Air': 0, 'Corp': 1, 'Dir': 2, 'Undef': 3, 'Group': 4, 'GDS': 4, 'TA/TO': 5, 'Off TA/TO': 5, 'On TA': 6, 'Comp': 7}\n",
    "data = data.replace(market_num)\n",
    "\n",
    "room_num = {'A': 0, 'B': 1, 'C': 2, 'D': 3, 'E': 4, 'F': 5, 'G': 6, 'H': 7, 'I': 9, 'K': 10, 'L': 8}\n",
    "data = data.replace(room_num)\n",
    "\n",
    "deposit_num = {'No Deposit': 0, 'Non Refund': 1, 'Refundable': 2}\n",
    "data = data.replace(deposit_num)\n",
    "\n",
    "customer_num = {'Contract': 0, 'Group': 1, 'Transient': 2, 'Transient-Party': 3}\n",
    "data = data.replace(customer_num)\n",
    "\n",
    "reservation_num = {'Canceled': 0, 'Check-Out': 1, 'No-Show': 2}\n",
    "data = data.replace(reservation_num)\n",
    "\n",
    "country_oe = OrdinalEncoder()\n",
    "data['country'] = country_oe.fit_transform(np.array(data['country']).reshape(-1,1))\n",
    "# countries = {}\n",
    "# count = 0\n",
    "# # to convert country variable to numeric values\n",
    "# for row in data.itertuples():\n",
    "#     if row.country in countries:\n",
    "#         pass\n",
    "#     else:\n",
    "#         countries[row.country] = count\n",
    "#         count += 1\n",
    "\n",
    "# data = data.replace(countries)"
   ]
  },
  {
   "cell_type": "code",
   "execution_count": 128,
   "metadata": {},
   "outputs": [
    {
     "data": {
      "text/html": [
       "<div>\n",
       "<style scoped>\n",
       "    .dataframe tbody tr th:only-of-type {\n",
       "        vertical-align: middle;\n",
       "    }\n",
       "\n",
       "    .dataframe tbody tr th {\n",
       "        vertical-align: top;\n",
       "    }\n",
       "\n",
       "    .dataframe thead th {\n",
       "        text-align: right;\n",
       "    }\n",
       "</style>\n",
       "<table border=\"1\" class=\"dataframe\">\n",
       "  <thead>\n",
       "    <tr style=\"text-align: right;\">\n",
       "      <th></th>\n",
       "      <th>hotel</th>\n",
       "      <th>is_canceled</th>\n",
       "      <th>lead_time</th>\n",
       "      <th>arrival_date_year</th>\n",
       "      <th>arrival_date_month</th>\n",
       "      <th>arrival_date_week_number</th>\n",
       "      <th>arrival_date_day_of_month</th>\n",
       "      <th>stays_in_weekend_nights</th>\n",
       "      <th>stays_in_week_nights</th>\n",
       "      <th>adults</th>\n",
       "      <th>children</th>\n",
       "      <th>babies</th>\n",
       "      <th>meal</th>\n",
       "      <th>country</th>\n",
       "      <th>market_segment</th>\n",
       "      <th>distribution_channel</th>\n",
       "      <th>is_repeated_guest</th>\n",
       "      <th>previous_cancellations</th>\n",
       "      <th>previous_bookings_not_canceled</th>\n",
       "      <th>reserved_room_type</th>\n",
       "      <th>assigned_room_type</th>\n",
       "      <th>booking_changes</th>\n",
       "      <th>deposit_type</th>\n",
       "      <th>agent</th>\n",
       "      <th>days_in_waiting_list</th>\n",
       "      <th>customer_type</th>\n",
       "      <th>adr</th>\n",
       "      <th>required_car_parking_spaces</th>\n",
       "      <th>total_of_special_requests</th>\n",
       "      <th>reservation_status</th>\n",
       "    </tr>\n",
       "  </thead>\n",
       "  <tbody>\n",
       "    <tr>\n",
       "      <th>0</th>\n",
       "      <td>0</td>\n",
       "      <td>0</td>\n",
       "      <td>342</td>\n",
       "      <td>2015</td>\n",
       "      <td>7</td>\n",
       "      <td>27</td>\n",
       "      <td>1</td>\n",
       "      <td>0</td>\n",
       "      <td>0</td>\n",
       "      <td>2</td>\n",
       "      <td>0.0</td>\n",
       "      <td>0</td>\n",
       "      <td>0</td>\n",
       "      <td>135.0</td>\n",
       "      <td>2</td>\n",
       "      <td>2</td>\n",
       "      <td>0</td>\n",
       "      <td>0</td>\n",
       "      <td>0</td>\n",
       "      <td>2</td>\n",
       "      <td>2</td>\n",
       "      <td>3</td>\n",
       "      <td>0</td>\n",
       "      <td>0.0</td>\n",
       "      <td>0</td>\n",
       "      <td>2</td>\n",
       "      <td>0.0</td>\n",
       "      <td>0</td>\n",
       "      <td>0</td>\n",
       "      <td>1</td>\n",
       "    </tr>\n",
       "    <tr>\n",
       "      <th>1</th>\n",
       "      <td>0</td>\n",
       "      <td>0</td>\n",
       "      <td>737</td>\n",
       "      <td>2015</td>\n",
       "      <td>7</td>\n",
       "      <td>27</td>\n",
       "      <td>1</td>\n",
       "      <td>0</td>\n",
       "      <td>0</td>\n",
       "      <td>2</td>\n",
       "      <td>0.0</td>\n",
       "      <td>0</td>\n",
       "      <td>0</td>\n",
       "      <td>135.0</td>\n",
       "      <td>2</td>\n",
       "      <td>2</td>\n",
       "      <td>0</td>\n",
       "      <td>0</td>\n",
       "      <td>0</td>\n",
       "      <td>2</td>\n",
       "      <td>2</td>\n",
       "      <td>4</td>\n",
       "      <td>0</td>\n",
       "      <td>0.0</td>\n",
       "      <td>0</td>\n",
       "      <td>2</td>\n",
       "      <td>0.0</td>\n",
       "      <td>0</td>\n",
       "      <td>0</td>\n",
       "      <td>1</td>\n",
       "    </tr>\n",
       "    <tr>\n",
       "      <th>2</th>\n",
       "      <td>0</td>\n",
       "      <td>0</td>\n",
       "      <td>7</td>\n",
       "      <td>2015</td>\n",
       "      <td>7</td>\n",
       "      <td>27</td>\n",
       "      <td>1</td>\n",
       "      <td>0</td>\n",
       "      <td>1</td>\n",
       "      <td>1</td>\n",
       "      <td>0.0</td>\n",
       "      <td>0</td>\n",
       "      <td>0</td>\n",
       "      <td>59.0</td>\n",
       "      <td>2</td>\n",
       "      <td>2</td>\n",
       "      <td>0</td>\n",
       "      <td>0</td>\n",
       "      <td>0</td>\n",
       "      <td>0</td>\n",
       "      <td>2</td>\n",
       "      <td>0</td>\n",
       "      <td>0</td>\n",
       "      <td>0.0</td>\n",
       "      <td>0</td>\n",
       "      <td>2</td>\n",
       "      <td>75.0</td>\n",
       "      <td>0</td>\n",
       "      <td>0</td>\n",
       "      <td>1</td>\n",
       "    </tr>\n",
       "    <tr>\n",
       "      <th>3</th>\n",
       "      <td>0</td>\n",
       "      <td>0</td>\n",
       "      <td>13</td>\n",
       "      <td>2015</td>\n",
       "      <td>7</td>\n",
       "      <td>27</td>\n",
       "      <td>1</td>\n",
       "      <td>0</td>\n",
       "      <td>1</td>\n",
       "      <td>1</td>\n",
       "      <td>0.0</td>\n",
       "      <td>0</td>\n",
       "      <td>0</td>\n",
       "      <td>59.0</td>\n",
       "      <td>1</td>\n",
       "      <td>1</td>\n",
       "      <td>0</td>\n",
       "      <td>0</td>\n",
       "      <td>0</td>\n",
       "      <td>0</td>\n",
       "      <td>0</td>\n",
       "      <td>0</td>\n",
       "      <td>0</td>\n",
       "      <td>304.0</td>\n",
       "      <td>0</td>\n",
       "      <td>2</td>\n",
       "      <td>75.0</td>\n",
       "      <td>0</td>\n",
       "      <td>0</td>\n",
       "      <td>1</td>\n",
       "    </tr>\n",
       "    <tr>\n",
       "      <th>4</th>\n",
       "      <td>0</td>\n",
       "      <td>0</td>\n",
       "      <td>14</td>\n",
       "      <td>2015</td>\n",
       "      <td>7</td>\n",
       "      <td>27</td>\n",
       "      <td>1</td>\n",
       "      <td>0</td>\n",
       "      <td>2</td>\n",
       "      <td>2</td>\n",
       "      <td>0.0</td>\n",
       "      <td>0</td>\n",
       "      <td>0</td>\n",
       "      <td>59.0</td>\n",
       "      <td>6</td>\n",
       "      <td>5</td>\n",
       "      <td>0</td>\n",
       "      <td>0</td>\n",
       "      <td>0</td>\n",
       "      <td>0</td>\n",
       "      <td>0</td>\n",
       "      <td>0</td>\n",
       "      <td>0</td>\n",
       "      <td>240.0</td>\n",
       "      <td>0</td>\n",
       "      <td>2</td>\n",
       "      <td>98.0</td>\n",
       "      <td>0</td>\n",
       "      <td>1</td>\n",
       "      <td>1</td>\n",
       "    </tr>\n",
       "  </tbody>\n",
       "</table>\n",
       "</div>"
      ],
      "text/plain": [
       "   hotel  is_canceled  lead_time  arrival_date_year  arrival_date_month  \\\n",
       "0      0            0        342               2015                   7   \n",
       "1      0            0        737               2015                   7   \n",
       "2      0            0          7               2015                   7   \n",
       "3      0            0         13               2015                   7   \n",
       "4      0            0         14               2015                   7   \n",
       "\n",
       "   arrival_date_week_number  arrival_date_day_of_month  \\\n",
       "0                        27                          1   \n",
       "1                        27                          1   \n",
       "2                        27                          1   \n",
       "3                        27                          1   \n",
       "4                        27                          1   \n",
       "\n",
       "   stays_in_weekend_nights  stays_in_week_nights  adults  children  babies  \\\n",
       "0                        0                     0       2       0.0       0   \n",
       "1                        0                     0       2       0.0       0   \n",
       "2                        0                     1       1       0.0       0   \n",
       "3                        0                     1       1       0.0       0   \n",
       "4                        0                     2       2       0.0       0   \n",
       "\n",
       "   meal  country  market_segment  distribution_channel  is_repeated_guest  \\\n",
       "0     0    135.0               2                     2                  0   \n",
       "1     0    135.0               2                     2                  0   \n",
       "2     0     59.0               2                     2                  0   \n",
       "3     0     59.0               1                     1                  0   \n",
       "4     0     59.0               6                     5                  0   \n",
       "\n",
       "   previous_cancellations  previous_bookings_not_canceled  reserved_room_type  \\\n",
       "0                       0                               0                   2   \n",
       "1                       0                               0                   2   \n",
       "2                       0                               0                   0   \n",
       "3                       0                               0                   0   \n",
       "4                       0                               0                   0   \n",
       "\n",
       "   assigned_room_type  booking_changes  deposit_type  agent  \\\n",
       "0                   2                3             0    0.0   \n",
       "1                   2                4             0    0.0   \n",
       "2                   2                0             0    0.0   \n",
       "3                   0                0             0  304.0   \n",
       "4                   0                0             0  240.0   \n",
       "\n",
       "   days_in_waiting_list  customer_type   adr  required_car_parking_spaces  \\\n",
       "0                     0              2   0.0                            0   \n",
       "1                     0              2   0.0                            0   \n",
       "2                     0              2  75.0                            0   \n",
       "3                     0              2  75.0                            0   \n",
       "4                     0              2  98.0                            0   \n",
       "\n",
       "   total_of_special_requests  reservation_status  \n",
       "0                          0                   1  \n",
       "1                          0                   1  \n",
       "2                          0                   1  \n",
       "3                          0                   1  \n",
       "4                          1                   1  "
      ]
     },
     "execution_count": 128,
     "metadata": {},
     "output_type": "execute_result"
    }
   ],
   "source": [
    "data.head()"
   ]
  },
  {
   "cell_type": "markdown",
   "metadata": {},
   "source": [
    "__Normalize data:__"
   ]
  },
  {
   "cell_type": "code",
   "execution_count": 133,
   "metadata": {},
   "outputs": [],
   "source": [
    "min_max_scaler = preprocessing.MinMaxScaler().fit(data)\n",
    "data_norm = min_max_scaler.transform(data) # min-max normalization to scale all variables between 0 & 1"
   ]
  },
  {
   "cell_type": "code",
   "execution_count": 134,
   "metadata": {},
   "outputs": [
    {
     "data": {
      "text/html": [
       "<div>\n",
       "<style scoped>\n",
       "    .dataframe tbody tr th:only-of-type {\n",
       "        vertical-align: middle;\n",
       "    }\n",
       "\n",
       "    .dataframe tbody tr th {\n",
       "        vertical-align: top;\n",
       "    }\n",
       "\n",
       "    .dataframe thead th {\n",
       "        text-align: right;\n",
       "    }\n",
       "</style>\n",
       "<table border=\"1\" class=\"dataframe\">\n",
       "  <thead>\n",
       "    <tr style=\"text-align: right;\">\n",
       "      <th></th>\n",
       "      <th>0</th>\n",
       "      <th>1</th>\n",
       "      <th>2</th>\n",
       "      <th>3</th>\n",
       "      <th>4</th>\n",
       "      <th>5</th>\n",
       "      <th>6</th>\n",
       "      <th>7</th>\n",
       "      <th>8</th>\n",
       "      <th>9</th>\n",
       "      <th>10</th>\n",
       "      <th>11</th>\n",
       "      <th>12</th>\n",
       "      <th>13</th>\n",
       "      <th>14</th>\n",
       "      <th>15</th>\n",
       "      <th>16</th>\n",
       "      <th>17</th>\n",
       "      <th>18</th>\n",
       "      <th>19</th>\n",
       "      <th>20</th>\n",
       "      <th>21</th>\n",
       "      <th>22</th>\n",
       "      <th>23</th>\n",
       "      <th>24</th>\n",
       "      <th>25</th>\n",
       "      <th>26</th>\n",
       "      <th>27</th>\n",
       "      <th>28</th>\n",
       "      <th>29</th>\n",
       "    </tr>\n",
       "  </thead>\n",
       "  <tbody>\n",
       "    <tr>\n",
       "      <th>0</th>\n",
       "      <td>0.0</td>\n",
       "      <td>0.0</td>\n",
       "      <td>0.464043</td>\n",
       "      <td>0.0</td>\n",
       "      <td>0.545455</td>\n",
       "      <td>0.5</td>\n",
       "      <td>0.0</td>\n",
       "      <td>0.0</td>\n",
       "      <td>0.00</td>\n",
       "      <td>0.036364</td>\n",
       "      <td>0.0</td>\n",
       "      <td>0.0</td>\n",
       "      <td>0.0</td>\n",
       "      <td>0.762712</td>\n",
       "      <td>0.285714</td>\n",
       "      <td>0.25</td>\n",
       "      <td>0.0</td>\n",
       "      <td>0.0</td>\n",
       "      <td>0.0</td>\n",
       "      <td>0.25</td>\n",
       "      <td>0.2</td>\n",
       "      <td>0.166667</td>\n",
       "      <td>0.0</td>\n",
       "      <td>0.000000</td>\n",
       "      <td>0.0</td>\n",
       "      <td>0.5</td>\n",
       "      <td>0.012355</td>\n",
       "      <td>0.0</td>\n",
       "      <td>0.0</td>\n",
       "      <td>0.5</td>\n",
       "    </tr>\n",
       "    <tr>\n",
       "      <th>1</th>\n",
       "      <td>0.0</td>\n",
       "      <td>0.0</td>\n",
       "      <td>1.000000</td>\n",
       "      <td>0.0</td>\n",
       "      <td>0.545455</td>\n",
       "      <td>0.5</td>\n",
       "      <td>0.0</td>\n",
       "      <td>0.0</td>\n",
       "      <td>0.00</td>\n",
       "      <td>0.036364</td>\n",
       "      <td>0.0</td>\n",
       "      <td>0.0</td>\n",
       "      <td>0.0</td>\n",
       "      <td>0.762712</td>\n",
       "      <td>0.285714</td>\n",
       "      <td>0.25</td>\n",
       "      <td>0.0</td>\n",
       "      <td>0.0</td>\n",
       "      <td>0.0</td>\n",
       "      <td>0.25</td>\n",
       "      <td>0.2</td>\n",
       "      <td>0.222222</td>\n",
       "      <td>0.0</td>\n",
       "      <td>0.000000</td>\n",
       "      <td>0.0</td>\n",
       "      <td>0.5</td>\n",
       "      <td>0.012355</td>\n",
       "      <td>0.0</td>\n",
       "      <td>0.0</td>\n",
       "      <td>0.5</td>\n",
       "    </tr>\n",
       "    <tr>\n",
       "      <th>2</th>\n",
       "      <td>0.0</td>\n",
       "      <td>0.0</td>\n",
       "      <td>0.009498</td>\n",
       "      <td>0.0</td>\n",
       "      <td>0.545455</td>\n",
       "      <td>0.5</td>\n",
       "      <td>0.0</td>\n",
       "      <td>0.0</td>\n",
       "      <td>0.02</td>\n",
       "      <td>0.018182</td>\n",
       "      <td>0.0</td>\n",
       "      <td>0.0</td>\n",
       "      <td>0.0</td>\n",
       "      <td>0.333333</td>\n",
       "      <td>0.285714</td>\n",
       "      <td>0.25</td>\n",
       "      <td>0.0</td>\n",
       "      <td>0.0</td>\n",
       "      <td>0.0</td>\n",
       "      <td>0.00</td>\n",
       "      <td>0.2</td>\n",
       "      <td>0.000000</td>\n",
       "      <td>0.0</td>\n",
       "      <td>0.000000</td>\n",
       "      <td>0.0</td>\n",
       "      <td>0.5</td>\n",
       "      <td>0.157597</td>\n",
       "      <td>0.0</td>\n",
       "      <td>0.0</td>\n",
       "      <td>0.5</td>\n",
       "    </tr>\n",
       "    <tr>\n",
       "      <th>3</th>\n",
       "      <td>0.0</td>\n",
       "      <td>0.0</td>\n",
       "      <td>0.017639</td>\n",
       "      <td>0.0</td>\n",
       "      <td>0.545455</td>\n",
       "      <td>0.5</td>\n",
       "      <td>0.0</td>\n",
       "      <td>0.0</td>\n",
       "      <td>0.02</td>\n",
       "      <td>0.018182</td>\n",
       "      <td>0.0</td>\n",
       "      <td>0.0</td>\n",
       "      <td>0.0</td>\n",
       "      <td>0.333333</td>\n",
       "      <td>0.142857</td>\n",
       "      <td>0.00</td>\n",
       "      <td>0.0</td>\n",
       "      <td>0.0</td>\n",
       "      <td>0.0</td>\n",
       "      <td>0.00</td>\n",
       "      <td>0.0</td>\n",
       "      <td>0.000000</td>\n",
       "      <td>0.0</td>\n",
       "      <td>0.568224</td>\n",
       "      <td>0.0</td>\n",
       "      <td>0.5</td>\n",
       "      <td>0.157597</td>\n",
       "      <td>0.0</td>\n",
       "      <td>0.0</td>\n",
       "      <td>0.5</td>\n",
       "    </tr>\n",
       "    <tr>\n",
       "      <th>4</th>\n",
       "      <td>0.0</td>\n",
       "      <td>0.0</td>\n",
       "      <td>0.018996</td>\n",
       "      <td>0.0</td>\n",
       "      <td>0.545455</td>\n",
       "      <td>0.5</td>\n",
       "      <td>0.0</td>\n",
       "      <td>0.0</td>\n",
       "      <td>0.04</td>\n",
       "      <td>0.036364</td>\n",
       "      <td>0.0</td>\n",
       "      <td>0.0</td>\n",
       "      <td>0.0</td>\n",
       "      <td>0.333333</td>\n",
       "      <td>0.857143</td>\n",
       "      <td>1.00</td>\n",
       "      <td>0.0</td>\n",
       "      <td>0.0</td>\n",
       "      <td>0.0</td>\n",
       "      <td>0.00</td>\n",
       "      <td>0.0</td>\n",
       "      <td>0.000000</td>\n",
       "      <td>0.0</td>\n",
       "      <td>0.448598</td>\n",
       "      <td>0.0</td>\n",
       "      <td>0.5</td>\n",
       "      <td>0.202138</td>\n",
       "      <td>0.0</td>\n",
       "      <td>0.2</td>\n",
       "      <td>0.5</td>\n",
       "    </tr>\n",
       "  </tbody>\n",
       "</table>\n",
       "</div>"
      ],
      "text/plain": [
       "    0    1         2    3         4    5    6    7     8         9    10   11  \\\n",
       "0  0.0  0.0  0.464043  0.0  0.545455  0.5  0.0  0.0  0.00  0.036364  0.0  0.0   \n",
       "1  0.0  0.0  1.000000  0.0  0.545455  0.5  0.0  0.0  0.00  0.036364  0.0  0.0   \n",
       "2  0.0  0.0  0.009498  0.0  0.545455  0.5  0.0  0.0  0.02  0.018182  0.0  0.0   \n",
       "3  0.0  0.0  0.017639  0.0  0.545455  0.5  0.0  0.0  0.02  0.018182  0.0  0.0   \n",
       "4  0.0  0.0  0.018996  0.0  0.545455  0.5  0.0  0.0  0.04  0.036364  0.0  0.0   \n",
       "\n",
       "    12        13        14    15   16   17   18    19   20        21   22  \\\n",
       "0  0.0  0.762712  0.285714  0.25  0.0  0.0  0.0  0.25  0.2  0.166667  0.0   \n",
       "1  0.0  0.762712  0.285714  0.25  0.0  0.0  0.0  0.25  0.2  0.222222  0.0   \n",
       "2  0.0  0.333333  0.285714  0.25  0.0  0.0  0.0  0.00  0.2  0.000000  0.0   \n",
       "3  0.0  0.333333  0.142857  0.00  0.0  0.0  0.0  0.00  0.0  0.000000  0.0   \n",
       "4  0.0  0.333333  0.857143  1.00  0.0  0.0  0.0  0.00  0.0  0.000000  0.0   \n",
       "\n",
       "         23   24   25        26   27   28   29  \n",
       "0  0.000000  0.0  0.5  0.012355  0.0  0.0  0.5  \n",
       "1  0.000000  0.0  0.5  0.012355  0.0  0.0  0.5  \n",
       "2  0.000000  0.0  0.5  0.157597  0.0  0.0  0.5  \n",
       "3  0.568224  0.0  0.5  0.157597  0.0  0.0  0.5  \n",
       "4  0.448598  0.0  0.5  0.202138  0.0  0.2  0.5  "
      ]
     },
     "execution_count": 134,
     "metadata": {},
     "output_type": "execute_result"
    }
   ],
   "source": [
    "data_norm = pd.DataFrame(data_norm)\n",
    "data_norm.head()"
   ]
  },
  {
   "cell_type": "markdown",
   "metadata": {},
   "source": [
    "## Perform Classification (KNN, Decision Tree, Multinomial Naive Bayes & SVM) using Hotel variable as the target: "
   ]
  },
  {
   "cell_type": "markdown",
   "metadata": {},
   "source": [
    "__Isolate target variable (hotel) and split into training/test sets:__"
   ]
  },
  {
   "cell_type": "code",
   "execution_count": 75,
   "metadata": {},
   "outputs": [],
   "source": [
    "target = data_norm[0]\n",
    "matrix = data_norm.iloc[:, 1:30]"
   ]
  },
  {
   "cell_type": "code",
   "execution_count": 40,
   "metadata": {},
   "outputs": [],
   "source": [
    "train, test, target_train, target_test = train_test_split(matrix, target, test_size=0.2, random_state=33)  # using an 80/20 split"
   ]
  },
  {
   "cell_type": "code",
   "execution_count": 41,
   "metadata": {},
   "outputs": [
    {
     "data": {
      "text/plain": [
       "(95364, 29)"
      ]
     },
     "execution_count": 41,
     "metadata": {},
     "output_type": "execute_result"
    }
   ],
   "source": [
    "train.shape"
   ]
  },
  {
   "cell_type": "code",
   "execution_count": 42,
   "metadata": {},
   "outputs": [
    {
     "data": {
      "text/plain": [
       "(23842, 29)"
      ]
     },
     "execution_count": 42,
     "metadata": {},
     "output_type": "execute_result"
    }
   ],
   "source": [
    "test.shape"
   ]
  },
  {
   "cell_type": "markdown",
   "metadata": {},
   "source": [
    "### KNN (target: hotel):"
   ]
  },
  {
   "cell_type": "markdown",
   "metadata": {},
   "source": [
    "__Perform classification using k-nearest neighbors and utilizing a grid search to optimize the value of k:__"
   ]
  },
  {
   "cell_type": "code",
   "execution_count": 43,
   "metadata": {},
   "outputs": [],
   "source": [
    "clf = neighbors.KNeighborsClassifier()                 # initialize knn classifier\n",
    "parameters = {'n_neighbors': [1,3,5,7,9]}              # parameters for grid search (values of k=1, k=3, k=5, k=7, k=9)\n",
    "gs = GridSearchCV(clf, parameters, verbose=1, cv=5)    # initialize grid search w/ specified parameters & 5-fold cross-validation"
   ]
  },
  {
   "cell_type": "code",
   "execution_count": 42,
   "metadata": {},
   "outputs": [],
   "source": [
    "#gs.fit(train, target_train)   # perform grid search on training data "
   ]
  },
  {
   "cell_type": "code",
   "execution_count": 43,
   "metadata": {},
   "outputs": [
    {
     "data": {
      "text/plain": [
       "'\\nfor (i, j) in gs.best_params_.items():\\n    print (\"The optimal value of\", i, \"is:\", j)\\nprint()\\nprint(\"The best cross-validation accuracy on the training data was: {}\".format(gs.best_score_))\\n'"
      ]
     },
     "execution_count": 43,
     "metadata": {},
     "output_type": "execute_result"
    }
   ],
   "source": [
    "\"\"\"\n",
    "for (i, j) in gs.best_params_.items():\n",
    "    print (\"The optimal value of\", i, \"is:\", j)\n",
    "print()\n",
    "print(\"The best cross-validation accuracy on the training data was: {}\".format(gs.best_score_))\n",
    "\"\"\""
   ]
  },
  {
   "cell_type": "markdown",
   "metadata": {},
   "source": [
    "__Using the best value of k (k=1), apply model to the set aside test data:__"
   ]
  },
  {
   "cell_type": "code",
   "execution_count": 44,
   "metadata": {},
   "outputs": [
    {
     "name": "stdout",
     "output_type": "stream",
     "text": [
      "              precision    recall  f1-score   support\n",
      "\n",
      "         0.0       0.94      0.93      0.94      7996\n",
      "         1.0       0.97      0.97      0.97     15846\n",
      "\n",
      "    accuracy                           0.96     23842\n",
      "   macro avg       0.96      0.95      0.95     23842\n",
      "weighted avg       0.96      0.96      0.96     23842\n",
      "\n"
     ]
    }
   ],
   "source": [
    "clf = neighbors.KNeighborsClassifier(n_neighbors=1)  # initialize with k=1\n",
    "\n",
    "clf.fit(train, target_train)                         # fit on training data\n",
    "\n",
    "pred_test_target = clf.predict(test)                 # predict classes of test set\n",
    "\n",
    "print(classification_report(target_test, pred_test_target))  # print classification report"
   ]
  },
  {
   "cell_type": "markdown",
   "metadata": {},
   "source": [
    "The accuracy for this knn classifier on the test data was 96%.  That is, the model was able to correctly predict whether the observation was a city hotel or a resort hotel in 96% of the total test cases. The above classification report also shows the precision, recall, and F1-scores."
   ]
  },
  {
   "cell_type": "markdown",
   "metadata": {},
   "source": [
    "__Visualize results with confusion matrix:__"
   ]
  },
  {
   "cell_type": "code",
   "execution_count": 45,
   "metadata": {},
   "outputs": [
    {
     "data": {
      "image/png": "[encoded data removed]",
      "text/plain": [
       "<Figure size 432x288 with 2 Axes>"
      ]
     },
     "metadata": {},
     "output_type": "display_data"
    }
   ],
   "source": [
    "knncm = confusion_matrix(target_test, pred_test_target)\n",
    "\n",
    "ax= plt.subplot()\n",
    "sns.heatmap(knncm, annot=True, fmt='d', cmap='Blues', ax = ax); \n",
    "\n",
    "ax.set_xlabel('Predicted labels');ax.set_ylabel('True labels'); \n",
    "ax.set_title('Confusion Matrix'); \n",
    "ax.xaxis.set_ticklabels(['resort', 'city']); ax.yaxis.set_ticklabels(['resort', 'city']);"
   ]
  },
  {
   "cell_type": "markdown",
   "metadata": {},
   "source": [
    "# MCC Metric!!!!!!!!!!!!!! - note for discussion"
   ]
  },
  {
   "cell_type": "markdown",
   "metadata": {},
   "source": [
    "There are more predictions for city hotels than resort hotels because this data set contains more observations belonging to the city hotel class."
   ]
  },
  {
   "cell_type": "markdown",
   "metadata": {},
   "source": [
    "### Decision Tree (target: hotel):"
   ]
  },
  {
   "cell_type": "markdown",
   "metadata": {},
   "source": [
    "__Perform classification using decision tree and a grid search to optimize the impurity measure and minimum number of samples per split:__"
   ]
  },
  {
   "cell_type": "code",
   "execution_count": 109,
   "metadata": {},
   "outputs": [],
   "source": [
    "clf2 = tree.DecisionTreeClassifier()                                                       # initialize dt classifier\n",
    "parameters = {'criterion': ['gini', 'entropy'], 'min_samples_split': [2,4,8,15,30,50,100]} # grid search parameters for criterion & min_samples_split\n",
    "gs2 = GridSearchCV(clf2, parameters, verbose=1, cv=5)  # initialize grid search w/ parameters & 5-fold cv"
   ]
  },
  {
   "cell_type": "code",
   "execution_count": 110,
   "metadata": {},
   "outputs": [
    {
     "name": "stdout",
     "output_type": "stream",
     "text": [
      "Fitting 5 folds for each of 14 candidates, totalling 70 fits\n"
     ]
    },
    {
     "name": "stderr",
     "output_type": "stream",
     "text": [
      "[Parallel(n_jobs=1)]: Using backend SequentialBackend with 1 concurrent workers.\n",
      "[Parallel(n_jobs=1)]: Done  70 out of  70 | elapsed:   25.6s finished\n"
     ]
    },
    {
     "data": {
      "text/plain": [
       "GridSearchCV(cv=5, estimator=DecisionTreeClassifier(),\n",
       "             param_grid={'criterion': ['gini', 'entropy'],\n",
       "                         'min_samples_split': [2, 4, 8, 15, 30, 50, 100]},\n",
       "             verbose=1)"
      ]
     },
     "execution_count": 110,
     "metadata": {},
     "output_type": "execute_result"
    }
   ],
   "source": [
    "gs2.fit(train, target_train)   # perform grid search on training data"
   ]
  },
  {
   "cell_type": "code",
   "execution_count": 111,
   "metadata": {},
   "outputs": [
    {
     "name": "stdout",
     "output_type": "stream",
     "text": [
      "The optimal value of criterion is: entropy\n",
      "The optimal value of min_samples_split is: 2\n",
      "\n",
      "The best cross-validation accuracy on the training data was: 0.9803280119750081\n"
     ]
    }
   ],
   "source": [
    "for (i, j) in gs2.best_params_.items():\n",
    "    print (\"The optimal value of\", i, \"is:\", j)\n",
    "print()\n",
    "print(\"The best cross-validation accuracy on the training data was: {}\".format(gs2.best_score_))"
   ]
  },
  {
   "cell_type": "markdown",
   "metadata": {},
   "source": [
    "__Using the optimal parameters (criterion='entropy' and min_samples_split=2), apply model to set aside test data:__"
   ]
  },
  {
   "cell_type": "code",
   "execution_count": 112,
   "metadata": {},
   "outputs": [
    {
     "name": "stdout",
     "output_type": "stream",
     "text": [
      "              precision    recall  f1-score   support\n",
      "\n",
      "         0.0       0.98      0.97      0.97      7996\n",
      "         1.0       0.99      0.99      0.99     15846\n",
      "\n",
      "    accuracy                           0.98     23842\n",
      "   macro avg       0.98      0.98      0.98     23842\n",
      "weighted avg       0.98      0.98      0.98     23842\n",
      "\n"
     ]
    }
   ],
   "source": [
    "clf2 = tree.DecisionTreeClassifier(criterion='entropy', min_samples_split=2)  # initialize dt classifier with entropy impurity measure and min samples per split = 2\n",
    "\n",
    "clf2.fit(train, target_train)                         # fit on training data\n",
    "\n",
    "pred_test_target = clf2.predict(test)                 # predict classes of test set\n",
    "\n",
    "print(classification_report(target_test, pred_test_target))  # print classification report"
   ]
  },
  {
   "cell_type": "markdown",
   "metadata": {},
   "source": [
    "The accuracy for this decision tree classifier on the test data was 98%. It is accurately predicting the hotel class 98% of the time, and is outperforming the previous knn classifier.  This is a very good model."
   ]
  },
  {
   "cell_type": "markdown",
   "metadata": {},
   "source": [
    "__Visualize results with confusion matrix:__"
   ]
  },
  {
   "cell_type": "code",
   "execution_count": 113,
   "metadata": {},
   "outputs": [
    {
     "data": {
      "image/png": "[encoded data removed]",
      "text/plain": [
       "<Figure size 432x288 with 2 Axes>"
      ]
     },
     "metadata": {},
     "output_type": "display_data"
    }
   ],
   "source": [
    "dtcm = confusion_matrix(target_test, pred_test_target)\n",
    "\n",
    "ax= plt.subplot()\n",
    "sns.heatmap(dtcm, annot=True, fmt='d', cmap='Oranges', ax = ax); \n",
    "\n",
    "ax.set_xlabel('Predicted labels');ax.set_ylabel('True labels'); \n",
    "ax.set_title('Confusion Matrix'); \n",
    "ax.xaxis.set_ticklabels(['resort', 'city']); ax.yaxis.set_ticklabels(['resort', 'city']);"
   ]
  },
  {
   "cell_type": "markdown",
   "metadata": {},
   "source": [
    "This classifier mislabelled less than 500 observations out of a total of 23,842 test cases."
   ]
  },
  {
   "cell_type": "markdown",
   "metadata": {},
   "source": [
    "### Multinomial Naive Bayes (target: hotel):"
   ]
  },
  {
   "cell_type": "markdown",
   "metadata": {},
   "source": [
    "__Perform classification using multinomial naive bayes and a grid search to optimize the parameters:__"
   ]
  },
  {
   "cell_type": "code",
   "execution_count": 114,
   "metadata": {},
   "outputs": [],
   "source": [
    "clf3 = MultinomialNB()                                            # initialize mnb classifier\n",
    "alphas = [0.0001, 0.001, 0.005, 0.01, 0.05, 0.1, 0.2, 0.3, 0.4]           # alphas to perform grid search on\n",
    "parameters = {'alpha': alphas, 'fit_prior' : [True, False]}       # parameters for grid search\n",
    "gs3 = GridSearchCV(clf3, parameters, verbose=1, cv=5)             # grid search using 5-fold cv"
   ]
  },
  {
   "cell_type": "code",
   "execution_count": 115,
   "metadata": {},
   "outputs": [
    {
     "name": "stdout",
     "output_type": "stream",
     "text": [
      "Fitting 5 folds for each of 18 candidates, totalling 90 fits\n"
     ]
    },
    {
     "name": "stderr",
     "output_type": "stream",
     "text": [
      "[Parallel(n_jobs=1)]: Using backend SequentialBackend with 1 concurrent workers.\n",
      "[Parallel(n_jobs=1)]: Done  90 out of  90 | elapsed:    3.0s finished\n"
     ]
    },
    {
     "data": {
      "text/plain": [
       "GridSearchCV(cv=5, estimator=MultinomialNB(),\n",
       "             param_grid={'alpha': [0.0001, 0.001, 0.005, 0.01, 0.05, 0.1, 0.2,\n",
       "                                   0.3, 0.4],\n",
       "                         'fit_prior': [True, False]},\n",
       "             verbose=1)"
      ]
     },
     "execution_count": 115,
     "metadata": {},
     "output_type": "execute_result"
    }
   ],
   "source": [
    "gs3.fit(train, target_train)     # perform grid search"
   ]
  },
  {
   "cell_type": "code",
   "execution_count": 116,
   "metadata": {},
   "outputs": [
    {
     "name": "stdout",
     "output_type": "stream",
     "text": [
      "The optimal value of alpha is: 0.0001\n",
      "The optimal value of fit_prior is: True\n",
      "\n",
      "The best cross-validation accuracy on the training data was: 0.7902877372067827\n"
     ]
    }
   ],
   "source": [
    "for (i, j) in gs3.best_params_.items():\n",
    "    print (\"The optimal value of\", i, \"is:\", j)\n",
    "print()\n",
    "print(\"The best cross-validation accuracy on the training data was: {}\".format(gs3.best_score_))"
   ]
  },
  {
   "cell_type": "markdown",
   "metadata": {},
   "source": [
    "__Using the optimal parameters (alpha = .0001 and fit_prior = True), apply model to set aside test data:__"
   ]
  },
  {
   "cell_type": "code",
   "execution_count": 117,
   "metadata": {},
   "outputs": [
    {
     "name": "stdout",
     "output_type": "stream",
     "text": [
      "              precision    recall  f1-score   support\n",
      "\n",
      "         0.0       0.87      0.44      0.58      7996\n",
      "         1.0       0.77      0.97      0.86     15846\n",
      "\n",
      "    accuracy                           0.79     23842\n",
      "   macro avg       0.82      0.70      0.72     23842\n",
      "weighted avg       0.80      0.79      0.77     23842\n",
      "\n"
     ]
    }
   ],
   "source": [
    "clf3 = MultinomialNB(alpha=.0001, fit_prior=True)  # initialize mnb classifier with smoothing parameter alpha = .1  & allow it to learn prior class probabilities\n",
    "\n",
    "clf3.fit(train, target_train)                   # fit on training data\n",
    "\n",
    "pred_test_target = clf3.predict(test)           # predict classes of test set\n",
    "\n",
    "print(classification_report(target_test, pred_test_target))  # print classification report"
   ]
  },
  {
   "cell_type": "markdown",
   "metadata": {},
   "source": [
    "This multinomial naive bayes classifier is correctly predicting the hotel class only 79% of the time.  The results are not as good as the knn classifier or the decision tree classifier.  It is a much poorer model than the previous two."
   ]
  },
  {
   "cell_type": "markdown",
   "metadata": {},
   "source": [
    "__Visualize results with confusion matrix:__"
   ]
  },
  {
   "cell_type": "code",
   "execution_count": 118,
   "metadata": {},
   "outputs": [
    {
     "data": {
      "image/png": "[encoded data removed]",
      "text/plain": [
       "<Figure size 432x288 with 2 Axes>"
      ]
     },
     "metadata": {},
     "output_type": "display_data"
    }
   ],
   "source": [
    "mnbcm = confusion_matrix(target_test, pred_test_target)\n",
    "\n",
    "ax= plt.subplot()\n",
    "sns.heatmap(mnbcm, annot=True, fmt='d', cmap='Greens', ax = ax); \n",
    "\n",
    "ax.set_xlabel('Predicted labels');ax.set_ylabel('True labels'); \n",
    "ax.set_title('Confusion Matrix'); \n",
    "ax.xaxis.set_ticklabels(['resort', 'city']); ax.yaxis.set_ticklabels(['resort', 'city']);"
   ]
  },
  {
   "cell_type": "markdown",
   "metadata": {},
   "source": [
    "This classifier incorrectly labelled far too many observations as city hotel instead of resort hotel."
   ]
  },
  {
   "cell_type": "markdown",
   "metadata": {},
   "source": [
    "### SVM (target: hotel):"
   ]
  },
  {
   "cell_type": "markdown",
   "metadata": {},
   "source": [
    "__Perform classification using support vector classifier and a grid search to optimize the C, gamma, and kernel parameters:__"
   ]
  },
  {
   "cell_type": "code",
   "execution_count": 100,
   "metadata": {},
   "outputs": [],
   "source": [
    "clf4 = SVC(class_weight='balanced')                    # initialize svm classifier w/ balanced class weights\n",
    "\n",
    "# grid search parameters:\n",
    "parameters = {'gamma': [0.1, .25, .4, .5, .7], 'C': [20, 40, 50, 75, 100], 'kernel': ['rbf', 'poly']}\n",
    "\n",
    "gs4 = GridSearchCV(clf4, parameters, verbose=1, cv=3)   # initialize grid search w/ 3-fold cv"
   ]
  },
  {
   "cell_type": "markdown",
   "metadata": {},
   "source": [
    "__Take random sample of 25% of the data to perform a grid search on (to speed up grid search process):__"
   ]
  },
  {
   "cell_type": "code",
   "execution_count": 101,
   "metadata": {},
   "outputs": [],
   "source": [
    "sample = data_norm.sample(frac =.25)     # random sample\n",
    "target_sample = sample[0]                # isolate target variable (hotel)\n",
    "matrix_sample = sample.iloc[:, 1:30]     # rest of sample data for grid search"
   ]
  },
  {
   "cell_type": "markdown",
   "metadata": {},
   "source": [
    "__Grid search:__"
   ]
  },
  {
   "cell_type": "code",
   "execution_count": 102,
   "metadata": {},
   "outputs": [
    {
     "name": "stdout",
     "output_type": "stream",
     "text": [
      "Fitting 3 folds for each of 50 candidates, totalling 150 fits\n"
     ]
    },
    {
     "name": "stderr",
     "output_type": "stream",
     "text": [
      "[Parallel(n_jobs=1)]: Using backend SequentialBackend with 1 concurrent workers.\n",
      "[Parallel(n_jobs=1)]: Done 150 out of 150 | elapsed: 40.6min finished\n"
     ]
    },
    {
     "data": {
      "text/plain": [
       "GridSearchCV(cv=3, estimator=SVC(class_weight='balanced'),\n",
       "             param_grid={'C': [20, 40, 50, 75, 100],\n",
       "                         'gamma': [0.1, 0.25, 0.4, 0.5, 0.7],\n",
       "                         'kernel': ['rbf', 'poly']},\n",
       "             verbose=1)"
      ]
     },
     "execution_count": 102,
     "metadata": {},
     "output_type": "execute_result"
    }
   ],
   "source": [
    "#gs4.fit(matrix_sample, target_sample)   # perform grid search on sample"
   ]
  },
  {
   "cell_type": "code",
   "execution_count": 119,
   "metadata": {},
   "outputs": [
    {
     "name": "stdout",
     "output_type": "stream",
     "text": [
      "The optimal value of C is: 50\n",
      "The optimal value of gamma is: 0.7\n",
      "The optimal value of kernel is: rbf\n",
      "\n",
      "The best cross-validation accuracy on the sample data was: 0.962921951546876\n"
     ]
    }
   ],
   "source": [
    "\"\"\"\n",
    "for (i, j) in gs4.best_params_.items():\n",
    "    print (\"The optimal value of\", i, \"is:\", j)\n",
    "print()\n",
    "print(\"The best cross-validation accuracy on the sample data was: {}\".format(gs4.best_score_))\n",
    "\"\"\""
   ]
  },
  {
   "cell_type": "markdown",
   "metadata": {},
   "source": [
    "__Using the optimal C, gamma, and kernel parameters found using a grid search on the smaller sample of the data, apply model (fit on the training data) to the set aside test data:__"
   ]
  },
  {
   "cell_type": "code",
   "execution_count": 120,
   "metadata": {},
   "outputs": [
    {
     "name": "stdout",
     "output_type": "stream",
     "text": [
      "              precision    recall  f1-score   support\n",
      "\n",
      "         0.0       0.96      0.97      0.96      7996\n",
      "         1.0       0.98      0.98      0.98     15846\n",
      "\n",
      "    accuracy                           0.97     23842\n",
      "   macro avg       0.97      0.97      0.97     23842\n",
      "weighted avg       0.97      0.97      0.97     23842\n",
      "\n"
     ]
    }
   ],
   "source": [
    "clf4 = SVC(kernel='rbf', gamma =.7, C=50, class_weight='balanced')  # initialize svm classifier with optimal parameters\n",
    "\n",
    "clf4.fit(train, target_train)                   # fit on training data\n",
    "\n",
    "pred_test_target = clf4.predict(test)           # predict classes of test set\n",
    "\n",
    "print(classification_report(target_test, pred_test_target))  # print classification report"
   ]
  },
  {
   "cell_type": "markdown",
   "metadata": {},
   "source": [
    "This support vector classifier is correctly predicting the hotel class on the test data in 97% of the test cases.  Thus, it performed better than the multinomial naive bayes classifier, and very similarly to the knn and decision tree classifiers."
   ]
  },
  {
   "cell_type": "markdown",
   "metadata": {},
   "source": [
    "__Visualize results with confusion matrix:__"
   ]
  },
  {
   "cell_type": "code",
   "execution_count": 121,
   "metadata": {},
   "outputs": [
    {
     "data": {
      "image/png": "[encoded data removed]",
      "text/plain": [
       "<Figure size 432x288 with 2 Axes>"
      ]
     },
     "metadata": {},
     "output_type": "display_data"
    }
   ],
   "source": [
    "svmcm = confusion_matrix(target_test, pred_test_target)\n",
    "\n",
    "ax= plt.subplot()\n",
    "sns.heatmap(svmcm, annot=True, fmt='d', cmap='Reds', ax = ax); \n",
    "\n",
    "ax.set_xlabel('Predicted labels');ax.set_ylabel('True labels'); \n",
    "ax.set_title('Confusion Matrix'); \n",
    "ax.xaxis.set_ticklabels(['resort', 'city']); ax.yaxis.set_ticklabels(['resort', 'city']);"
   ]
  },
  {
   "cell_type": "markdown",
   "metadata": {},
   "source": [
    "### Compare all four models using ROC curves:"
   ]
  },
  {
   "cell_type": "code",
   "execution_count": 122,
   "metadata": {},
   "outputs": [
    {
     "data": {
      "image/png": "[encoded data removed]",
      "text/plain": [
       "<Figure size 432x288 with 1 Axes>"
      ]
     },
     "metadata": {},
     "output_type": "display_data"
    }
   ],
   "source": [
    "# Code adapted from ensemble-classification1.ipynb:\n",
    "\"\"\"\n",
    "models = [\n",
    "{\n",
    "    'label': 'KNN',\n",
    "    'model': neighbors.KNeighborsClassifier(n_neighbors=1),\n",
    "},\n",
    "{\n",
    "    'label': 'Decision Tree',\n",
    "    'model': tree.DecisionTreeClassifier(criterion='entropy', min_samples_split=2),\n",
    "},\n",
    "{\n",
    "    'label': 'Multinomial NB',\n",
    "    'model': MultinomialNB(alpha=.1, fit_prior=True),\n",
    "},\n",
    "{\n",
    "    'label': 'SVM',\n",
    "    'model': SVC(kernel='rbf', gamma = .7, C= 50, class_weight='balanced', probability=True),\n",
    "}\n",
    "]\n",
    "# below for loop iterates through models list\n",
    "for m in models:\n",
    "    model = m['model']              # select the model\n",
    "    model.fit(train, target_train)  # train the model\n",
    "    y_pred=model.predict(test)      # predict the test data\n",
    "# compute false postive rate, and true positive rate\n",
    "    fpr, tpr, thresholds = metrics.roc_curve(target_test, model.predict_proba(test)[:,1])\n",
    "# calculate AUC to display on the plot\n",
    "    auc = metrics.roc_auc_score(target_test, model.predict(test))\n",
    "# plot the computed values\n",
    "    plt.plot(fpr, tpr, label='%s ROC (area = %0.2f)' % (m['label'], auc))\n",
    "# custom settings for the plot \n",
    "plt.plot([0, 1], [0, 1],'k--',label='No Skill')\n",
    "plt.xlim([0.0, 1.0])\n",
    "plt.ylim([0.0, 1.05])\n",
    "plt.xlabel('1-Specificity(False Positive Rate)')\n",
    "plt.ylabel('Sensitivity(True Positive Rate)')\n",
    "plt.title('Receiver Operating Characteristic')\n",
    "plt.legend(loc=\"lower right\")  # legend location\n",
    "plt.show()   # display\n",
    "\"\"\""
   ]
  },
  {
   "cell_type": "markdown",
   "metadata": {},
   "source": [
    "The above graph shows the performance for each of the four models (KNN, Decision Tree, Multinomial Naive Bayes, & SVM) over a range of probability thresholds.  The KNN, decision tree, and SVM classifiers all performed very well, with high respective AUC's (area under the curve).  The multinomial naive bayes classifier on the other hand, has a relatively low AUC.  For this data set, I would select the decision tree classifier as the best model for predicting the hotel class, as it displayed the highest overall accuracy (98%) and has the best AUC. "
   ]
  },
  {
   "cell_type": "markdown",
   "metadata": {},
   "source": [
    "## Perform Classification (KNN, Decision Tree, Multinomial Naive Bayes & SVM) using is_canceled as the target variable: "
   ]
  },
  {
   "cell_type": "markdown",
   "metadata": {},
   "source": [
    "__Isolate target variable (is_canceled) and split into training/test sets:__"
   ]
  },
  {
   "cell_type": "code",
   "execution_count": 64,
   "metadata": {},
   "outputs": [],
   "source": [
    "# set up our target variable and data matrix\n",
    "y = data['is_canceled']\n",
    "X = data.drop(columns=['is_canceled'])"
   ]
  },
  {
   "cell_type": "code",
   "execution_count": 65,
   "metadata": {},
   "outputs": [],
   "source": [
    "# split the data into training and testing groups\n",
    "X_train, X_test, y_train, y_test = train_test_split(X, y, test_size=0.2, random_state=33)"
   ]
  },
  {
   "cell_type": "markdown",
   "metadata": {},
   "source": [
    "### KNN (target: is_canceled):"
   ]
  },
  {
   "cell_type": "markdown",
   "metadata": {},
   "source": [
    "__Perform classification using k-nearest neighbors and utilizing a grid search to optimize the value of k:__"
   ]
  },
  {
   "cell_type": "code",
   "execution_count": 66,
   "metadata": {},
   "outputs": [],
   "source": [
    "knn = neighbors.KNeighborsClassifier()\n",
    "parameters = {'n_neighbors': [1,3,5,7,9]}\n",
    "# knn_gs = GridSearchCV(knn, parameters, verbose=1, cv=5)\n",
    "# knn_gs.fit(X, y)"
   ]
  },
  {
   "cell_type": "code",
   "execution_count": 67,
   "metadata": {},
   "outputs": [
    {
     "data": {
      "text/plain": [
       "KNeighborsClassifier(n_neighbors=1)"
      ]
     },
     "execution_count": 67,
     "metadata": {},
     "output_type": "execute_result"
    }
   ],
   "source": [
    "# set n value and train the model using our training data\n",
    "knn.n_neighbors = 1\n",
    "knn.fit(X_train, y_train)"
   ]
  },
  {
   "cell_type": "code",
   "execution_count": 68,
   "metadata": {},
   "outputs": [],
   "source": [
    "# get the predicts for the test data\n",
    "knn_preds = knn.predict(X_test)"
   ]
  },
  {
   "cell_type": "code",
   "execution_count": 69,
   "metadata": {},
   "outputs": [
    {
     "name": "stdout",
     "output_type": "stream",
     "text": [
      "              precision    recall  f1-score   support\n",
      "\n",
      "           0       0.86      0.85      0.85     14956\n",
      "           1       0.75      0.76      0.76      8886\n",
      "\n",
      "    accuracy                           0.82     23842\n",
      "   macro avg       0.80      0.80      0.80     23842\n",
      "weighted avg       0.82      0.82      0.82     23842\n",
      "\n"
     ]
    }
   ],
   "source": [
    "# create classification report\n",
    "print(classification_report(y_test, knn_preds))"
   ]
  },
  {
   "cell_type": "markdown",
   "metadata": {},
   "source": [
    "### Decision Tree (target: is_canceled):"
   ]
  },
  {
   "cell_type": "markdown",
   "metadata": {},
   "source": [
    "__Perform classification using decision tree and a grid search to optimize the impurity measure and minimum number of samples per split:__"
   ]
  },
  {
   "cell_type": "code",
   "execution_count": 70,
   "metadata": {},
   "outputs": [],
   "source": [
    "dt = tree.DecisionTreeClassifier()\n",
    "parameters = {'criterion': ['gini', 'entropy'], 'min_samples_split': [2,4,8,15,30,50,100]}\n",
    "dt_cv = GridSearchCV(dt, parameters, verbose=1, cv=5)"
   ]
  },
  {
   "cell_type": "code",
   "execution_count": 71,
   "metadata": {},
   "outputs": [
    {
     "name": "stdout",
     "output_type": "stream",
     "text": [
      "Fitting 5 folds for each of 14 candidates, totalling 70 fits\n"
     ]
    },
    {
     "name": "stderr",
     "output_type": "stream",
     "text": [
      "[Parallel(n_jobs=1)]: Using backend SequentialBackend with 1 concurrent workers.\n",
      "[Parallel(n_jobs=1)]: Done  70 out of  70 | elapsed:    9.2s finished\n"
     ]
    },
    {
     "data": {
      "text/plain": [
       "GridSearchCV(cv=5, estimator=DecisionTreeClassifier(),\n",
       "             param_grid={'criterion': ['gini', 'entropy'],\n",
       "                         'min_samples_split': [2, 4, 8, 15, 30, 50, 100]},\n",
       "             verbose=1)"
      ]
     },
     "execution_count": 71,
     "metadata": {},
     "output_type": "execute_result"
    }
   ],
   "source": [
    "# fit the training data to the grid search\n",
    "dt_cv.fit(X_train, y_train)"
   ]
  },
  {
   "cell_type": "code",
   "execution_count": 72,
   "metadata": {},
   "outputs": [
    {
     "data": {
      "text/plain": [
       "{'criterion': 'gini', 'min_samples_split': 2}"
      ]
     },
     "execution_count": 72,
     "metadata": {},
     "output_type": "execute_result"
    }
   ],
   "source": [
    "dt_cv.best_params_"
   ]
  },
  {
   "cell_type": "code",
   "execution_count": 73,
   "metadata": {},
   "outputs": [
    {
     "data": {
      "text/plain": [
       "1.0"
      ]
     },
     "execution_count": 73,
     "metadata": {},
     "output_type": "execute_result"
    }
   ],
   "source": [
    "dt_cv.best_score_"
   ]
  },
  {
   "cell_type": "code",
   "execution_count": 74,
   "metadata": {},
   "outputs": [
    {
     "data": {
      "text/plain": [
       "DecisionTreeClassifier()"
      ]
     },
     "execution_count": 74,
     "metadata": {},
     "output_type": "execute_result"
    }
   ],
   "source": [
    "# set the parameters for our model, and fit the model\n",
    "dt.criterion = 'gini'\n",
    "dt.min_samples_split = 2\n",
    "dt.fit(X_train, y_train)"
   ]
  },
  {
   "cell_type": "code",
   "execution_count": 75,
   "metadata": {},
   "outputs": [],
   "source": [
    "# get the predictions for our test data\n",
    "dt_preds = dt.predict(X_test)"
   ]
  },
  {
   "cell_type": "code",
   "execution_count": 76,
   "metadata": {},
   "outputs": [
    {
     "name": "stdout",
     "output_type": "stream",
     "text": [
      "              precision    recall  f1-score   support\n",
      "\n",
      "           0       1.00      1.00      1.00     14956\n",
      "           1       1.00      1.00      1.00      8886\n",
      "\n",
      "    accuracy                           1.00     23842\n",
      "   macro avg       1.00      1.00      1.00     23842\n",
      "weighted avg       1.00      1.00      1.00     23842\n",
      "\n"
     ]
    }
   ],
   "source": [
    "# print out classification report\n",
    "print(classification_report(y_test, dt_preds))"
   ]
  },
  {
   "cell_type": "markdown",
   "metadata": {},
   "source": [
    "## Regression (target: ADR)"
   ]
  },
  {
   "cell_type": "code",
   "execution_count": 179,
   "metadata": {},
   "outputs": [],
   "source": [
    "lr_data = pd.DataFrame(data_norm)\n",
    "lr_data.columns = data.columns\n",
    "adr = data_norm['adr']\n",
    "train_data = data_norm.drop(['adr', 'arrival_date_year', 'country', 'agent', 'assigned_room_type', 'reservation_status'], axis=1)"
   ]
  },
  {
   "cell_type": "code",
   "execution_count": 180,
   "metadata": {},
   "outputs": [],
   "source": [
    "train, test, train_target, test_target = train_test_split(train_data, adr, test_size=0.2, random_state=99)"
   ]
  },
  {
   "cell_type": "code",
   "execution_count": 181,
   "metadata": {},
   "outputs": [
    {
     "name": "stdout",
     "output_type": "stream",
     "text": [
      "Fitting 5 folds for each of 2 candidates, totalling 10 fits\n"
     ]
    },
    {
     "name": "stderr",
     "output_type": "stream",
     "text": [
      "[Parallel(n_jobs=1)]: Using backend SequentialBackend with 1 concurrent workers.\n",
      "[Parallel(n_jobs=1)]: Done  10 out of  10 | elapsed:    0.3s finished\n"
     ]
    }
   ],
   "source": [
    "lr = LinearRegression()\n",
    "params = {'fit_intercept':[True, False]}\n",
    "lr_clf = GridSearchCV(lr, params, verbose=1, cv=5).fit(train, train_target)"
   ]
  },
  {
   "cell_type": "code",
   "execution_count": 182,
   "metadata": {},
   "outputs": [
    {
     "data": {
      "text/plain": [
       "{'fit_intercept': True}"
      ]
     },
     "execution_count": 182,
     "metadata": {},
     "output_type": "execute_result"
    }
   ],
   "source": [
    "lr_clf.best_params_"
   ]
  },
  {
   "cell_type": "code",
   "execution_count": 183,
   "metadata": {},
   "outputs": [],
   "source": [
    "lr_best = LinearRegression(fit_intercept=True).fit(train, train_target)"
   ]
  },
  {
   "cell_type": "markdown",
   "metadata": {},
   "source": [
    "Since input data is normalized, coefficents can be used to determine relative impact of each independent variable"
   ]
  },
  {
   "cell_type": "code",
   "execution_count": 185,
   "metadata": {},
   "outputs": [
    {
     "data": {
      "text/plain": [
       "arrival_date_week_number         -1.595858\n",
       "previous_cancellations           -0.087491\n",
       "lead_time                        -0.073115\n",
       "previous_bookings_not_canceled   -0.045082\n",
       "is_repeated_guest                -0.042969\n",
       "customer_type                    -0.003280\n",
       "market_segment                   -0.002833\n",
       "deposit_type                      0.001027\n",
       "days_in_waiting_list              0.002957\n",
       "distribution_channel              0.003784\n",
       "stays_in_weekend_nights           0.005743\n",
       "is_canceled                       0.016279\n",
       "meal                              0.026676\n",
       "babies                            0.037377\n",
       "hotel                             0.040906\n",
       "booking_changes                   0.054196\n",
       "total_of_special_requests         0.056657\n",
       "stays_in_week_nights              0.079496\n",
       "arrival_date_day_of_month         0.140248\n",
       "reserved_room_type                0.146330\n",
       "required_car_parking_spaces       0.167895\n",
       "children                          0.460624\n",
       "adults                            1.130865\n",
       "arrival_date_month                1.513009\n",
       "dtype: float64"
      ]
     },
     "execution_count": 185,
     "metadata": {},
     "output_type": "execute_result"
    }
   ],
   "source": [
    "coefs = pd.Series(lr_best.coef_, index=train_data.columns).sort_values() \n",
    "coefs"
   ]
  },
  {
   "cell_type": "markdown",
   "metadata": {},
   "source": [
    "- arrival_date_week_number has the largest negative impact on adr \n",
    "- arrival_date_month has the largest positive impact"
   ]
  },
  {
   "cell_type": "code",
   "execution_count": 186,
   "metadata": {},
   "outputs": [],
   "source": [
    "lr_best_preds = lr_best.predict(test)"
   ]
  },
  {
   "cell_type": "code",
   "execution_count": 187,
   "metadata": {
    "scrolled": true
   },
   "outputs": [
    {
     "data": {
      "text/plain": [
       "0.3522936961616042"
      ]
     },
     "execution_count": 187,
     "metadata": {},
     "output_type": "execute_result"
    }
   ],
   "source": [
    "r2_score(test_target, lr_best_preds)"
   ]
  },
  {
   "cell_type": "markdown",
   "metadata": {},
   "source": [
    "- R-squared of 0.35 is not sufficient to make this a useful model\n",
    "- Let's create dummie variables for categorical vars"
   ]
  },
  {
   "cell_type": "code",
   "execution_count": 194,
   "metadata": {},
   "outputs": [],
   "source": [
    "hotel = pd.get_dummies(train_data['hotel'], prefix='hotel', drop_first=True)\n",
    "dist_channel = pd.get_dummies(train_data['distribution_channel'], prefix='dist_channel', drop_first=True)\n",
    "meal = pd.get_dummies(train_data['meal'], prefix='meal', drop_first=True)\n",
    "mark_seg = pd.get_dummies(train_data['market_segment'], prefix='mark_seg', drop_first=True)\n",
    "reserved_room = pd.get_dummies(train_data['reserved_room_type'], prefix='reserved_room', drop_first=True)\n",
    "deposit = pd.get_dummies(train_data['deposit_type'], prefix='deposit', drop_first=True)\n",
    "cust_type = pd.get_dummies(train_data['customer_type'], prefix='cust', drop_first=True)\n",
    "dummie_list = [hotel, dist_channel, meal, mark_seg, reserved_room, deposit, cust_type]"
   ]
  },
  {
   "cell_type": "markdown",
   "metadata": {},
   "source": [
    "- remove original data from data"
   ]
  },
  {
   "cell_type": "code",
   "execution_count": 192,
   "metadata": {},
   "outputs": [],
   "source": [
    "train_data_red = train_data.drop(['hotel', 'distribution_channel', 'meal', 'market_segment', 'reserved_room_type', 'deposit_type', 'customer_type'], axis=1)"
   ]
  },
  {
   "cell_type": "markdown",
   "metadata": {},
   "source": [
    "- join dummy variables to other variables"
   ]
  },
  {
   "cell_type": "code",
   "execution_count": 199,
   "metadata": {},
   "outputs": [],
   "source": [
    "train_data_dums = train_data_red.join(dummie_list)"
   ]
  },
  {
   "cell_type": "code",
   "execution_count": 201,
   "metadata": {},
   "outputs": [],
   "source": [
    "train, test, train_target, test_target = train_test_split(train_data_dums, adr, test_size=0.2, random_state=99)"
   ]
  },
  {
   "cell_type": "code",
   "execution_count": 202,
   "metadata": {},
   "outputs": [
    {
     "name": "stdout",
     "output_type": "stream",
     "text": [
      "Fitting 5 folds for each of 2 candidates, totalling 10 fits\n"
     ]
    },
    {
     "name": "stderr",
     "output_type": "stream",
     "text": [
      "[Parallel(n_jobs=1)]: Using backend SequentialBackend with 1 concurrent workers.\n",
      "[Parallel(n_jobs=1)]: Done  10 out of  10 | elapsed:    0.6s finished\n"
     ]
    }
   ],
   "source": [
    "lr = LinearRegression()\n",
    "params = {'fit_intercept':[True, False]}\n",
    "lr_clf_dums = GridSearchCV(lr, params, verbose=1, cv=5).fit(train, train_target)"
   ]
  },
  {
   "cell_type": "code",
   "execution_count": 203,
   "metadata": {},
   "outputs": [
    {
     "data": {
      "text/plain": [
       "{'fit_intercept': True}"
      ]
     },
     "execution_count": 203,
     "metadata": {},
     "output_type": "execute_result"
    }
   ],
   "source": [
    "lr_clf_dums.best_params_"
   ]
  },
  {
   "cell_type": "code",
   "execution_count": 204,
   "metadata": {},
   "outputs": [],
   "source": [
    "lr_dums = LinearRegression(fit_intercept=True).fit(train, train_target)"
   ]
  },
  {
   "cell_type": "markdown",
   "metadata": {},
   "source": [
    "Since input data is normalized, coefficents can be used to determine relative impact of each independent variable"
   ]
  },
  {
   "cell_type": "code",
   "execution_count": 207,
   "metadata": {},
   "outputs": [
    {
     "data": {
      "text/plain": [
       "arrival_date_week_number         -1.552352\n",
       "mark_seg_1.0                     -0.201067\n",
       "previous_cancellations           -0.097977\n",
       "dist_channel_0.5                 -0.086374\n",
       "lead_time                        -0.057650\n",
       "mark_seg_0.5714285714285714      -0.039549\n",
       "reserved_room_0.125              -0.037754\n",
       "mark_seg_0.14285714285714285     -0.030147\n",
       "mark_seg_0.7142857142857142      -0.029604\n",
       "is_repeated_guest                -0.029422\n",
       "meal_1.0                         -0.012306\n",
       "cust_1.0                         -0.006167\n",
       "dist_channel_1.0                 -0.005102\n",
       "dist_channel_0.25                -0.001435\n",
       "stays_in_weekend_nights           0.005580\n",
       "is_canceled                       0.009446\n",
       "mark_seg_0.2857142857142857       0.010144\n",
       "mark_seg_0.8571428571428571       0.015438\n",
       "cust_0.75                         0.017262\n",
       "cust_0.5                          0.017747\n",
       "days_in_waiting_list              0.019335\n",
       "deposit_0.5                       0.020794\n",
       "total_of_special_requests         0.026883\n",
       "deposit_1.0                       0.027206\n",
       "previous_bookings_not_canceled    0.032712\n",
       "dist_channel_0.75                 0.036826\n",
       "booking_changes                   0.038093\n",
       "reserved_room_0.375               0.038780\n",
       "babies                            0.039111\n",
       "hotel_1.0                         0.049841\n",
       "meal_0.6666666666666666           0.056199\n",
       "reserved_room_0.5                 0.060003\n",
       "meal_0.3333333333333333           0.073938\n",
       "stays_in_week_nights              0.080786\n",
       "reserved_room_0.25                0.084148\n",
       "reserved_room_0.625               0.093038\n",
       "required_car_parking_spaces       0.109144\n",
       "reserved_room_0.75                0.120359\n",
       "arrival_date_day_of_month         0.137307\n",
       "reserved_room_0.875               0.144039\n",
       "reserved_room_1.0                 0.163486\n",
       "children                          0.318546\n",
       "adults                            0.886241\n",
       "arrival_date_month                1.474156\n",
       "dtype: float64"
      ]
     },
     "execution_count": 207,
     "metadata": {},
     "output_type": "execute_result"
    }
   ],
   "source": [
    "coefs = pd.Series(lr_dums.coef_, index=train_data_dums.columns).sort_values() \n",
    "coefs"
   ]
  },
  {
   "cell_type": "markdown",
   "metadata": {},
   "source": [
    "- arrival_date_week_number still has the largest negative impact on adr \n",
    "- arrival_date_month still has the largest positive impact"
   ]
  },
  {
   "cell_type": "code",
   "execution_count": 210,
   "metadata": {},
   "outputs": [],
   "source": [
    "lr_dums_preds = lr_dums.predict(test)"
   ]
  },
  {
   "cell_type": "code",
   "execution_count": 211,
   "metadata": {
    "scrolled": true
   },
   "outputs": [
    {
     "data": {
      "text/plain": [
       "0.43837330137281805"
      ]
     },
     "execution_count": 211,
     "metadata": {},
     "output_type": "execute_result"
    }
   ],
   "source": [
    "r2_score(test_target, lr_dums_preds)"
   ]
  },
  {
   "cell_type": "markdown",
   "metadata": {},
   "source": [
    "- R-squared improved from 35% to 44% (25% increase) but this is still not very useful as a model\n",
    "- Let's try removing non-dummy dependent variables with coefficients between -0.2 and 0.2"
   ]
  },
  {
   "cell_type": "code",
   "execution_count": 221,
   "metadata": {},
   "outputs": [],
   "source": [
    "drop_vars = ['stays_in_weekend_nights', 'is_canceled', 'days_in_waiting_list']\n",
    "train_data_dums2 = train_data_dums.drop(drop_vars, axis=1)"
   ]
  },
  {
   "cell_type": "code",
   "execution_count": 374,
   "metadata": {},
   "outputs": [],
   "source": [
    "train, test, train_target, test_target = train_test_split(train_data_dums2, adr, test_size=0.2, random_state=99)"
   ]
  },
  {
   "cell_type": "code",
   "execution_count": 224,
   "metadata": {},
   "outputs": [
    {
     "name": "stdout",
     "output_type": "stream",
     "text": [
      "Fitting 5 folds for each of 2 candidates, totalling 10 fits\n"
     ]
    },
    {
     "name": "stderr",
     "output_type": "stream",
     "text": [
      "[Parallel(n_jobs=1)]: Using backend SequentialBackend with 1 concurrent workers.\n",
      "[Parallel(n_jobs=1)]: Done  10 out of  10 | elapsed:    0.6s finished\n"
     ]
    }
   ],
   "source": [
    "lr = LinearRegression()\n",
    "params = {'fit_intercept':[True, False]}\n",
    "lr_clf_dums2 = GridSearchCV(lr, params, verbose=1, cv=5).fit(train, train_target)"
   ]
  },
  {
   "cell_type": "code",
   "execution_count": 225,
   "metadata": {},
   "outputs": [
    {
     "data": {
      "text/plain": [
       "{'fit_intercept': True}"
      ]
     },
     "execution_count": 225,
     "metadata": {},
     "output_type": "execute_result"
    }
   ],
   "source": [
    "lr_clf_dums2.best_params_"
   ]
  },
  {
   "cell_type": "code",
   "execution_count": 226,
   "metadata": {},
   "outputs": [],
   "source": [
    "lr_dums2 = LinearRegression(fit_intercept=True).fit(train, train_target)"
   ]
  },
  {
   "cell_type": "markdown",
   "metadata": {},
   "source": [
    "Since input data is normalized, coefficents can be used to determine relative impact of each independent variable"
   ]
  },
  {
   "cell_type": "code",
   "execution_count": 365,
   "metadata": {},
   "outputs": [
    {
     "data": {
      "text/plain": [
       "arrival_date_week_number         -1.564922\n",
       "mark_seg_1.0                     -0.200954\n",
       "previous_cancellations           -0.092073\n",
       "dist_channel_0.5                 -0.080942\n",
       "lead_time                        -0.052876\n",
       "mark_seg_0.5714285714285714      -0.039844\n",
       "reserved_room_0.125              -0.037786\n",
       "mark_seg_0.14285714285714285     -0.030532\n",
       "mark_seg_0.7142857142857142      -0.030527\n",
       "is_repeated_guest                -0.029366\n",
       "meal_1.0                         -0.012321\n",
       "cust_1.0                         -0.006546\n",
       "dist_channel_1.0                 -0.004845\n",
       "dist_channel_0.25                -0.001712\n",
       "mark_seg_0.2857142857142857       0.010084\n",
       "mark_seg_0.8571428571428571       0.016659\n",
       "cust_0.75                         0.017736\n",
       "cust_0.5                          0.018616\n",
       "total_of_special_requests         0.021193\n",
       "deposit_0.5                       0.026715\n",
       "deposit_1.0                       0.027638\n",
       "booking_changes                   0.029025\n",
       "previous_bookings_not_canceled    0.030813\n",
       "dist_channel_0.75                 0.035618\n",
       "reserved_room_0.375               0.038843\n",
       "babies                            0.042924\n",
       "hotel_1.0                         0.050143\n",
       "meal_0.6666666666666666           0.056219\n",
       "reserved_room_0.5                 0.060380\n",
       "meal_0.3333333333333333           0.074715\n",
       "reserved_room_0.25                0.084667\n",
       "stays_in_week_nights              0.090314\n",
       "required_car_parking_spaces       0.090515\n",
       "reserved_room_0.625               0.092815\n",
       "reserved_room_0.75                0.120614\n",
       "arrival_date_day_of_month         0.138403\n",
       "reserved_room_0.875               0.144743\n",
       "reserved_room_1.0                 0.164499\n",
       "children                          0.322650\n",
       "adults                            0.900905\n",
       "arrival_date_month                1.485974\n",
       "dtype: float64"
      ]
     },
     "execution_count": 365,
     "metadata": {},
     "output_type": "execute_result"
    }
   ],
   "source": [
    "coefs = pd.Series(lr_dums2.coef_, index=train_data_dums2.columns).sort_values()\n",
    "coefs"
   ]
  },
  {
   "cell_type": "markdown",
   "metadata": {},
   "source": [
    "- arrival_date_week_number still has the largest negative impact on adr \n",
    "- arrival_date_month still has the largest positive impact"
   ]
  },
  {
   "cell_type": "code",
   "execution_count": 231,
   "metadata": {},
   "outputs": [],
   "source": [
    "lr_dums2_preds = lr_dums2.predict(test)"
   ]
  },
  {
   "cell_type": "code",
   "execution_count": 232,
   "metadata": {
    "scrolled": true
   },
   "outputs": [
    {
     "data": {
      "text/plain": [
       "0.43649060373294923"
      ]
     },
     "execution_count": 232,
     "metadata": {},
     "output_type": "execute_result"
    }
   ],
   "source": [
    "r2_score(test_target, lr_dums2_preds)"
   ]
  },
  {
   "cell_type": "markdown",
   "metadata": {},
   "source": [
    "- Removeing those vars had no impact on model performance"
   ]
  },
  {
   "cell_type": "code",
   "execution_count": null,
   "metadata": {},
   "outputs": [],
   "source": []
  }
 ],
 "metadata": {
  "kernelspec": {
   "display_name": "Python 3",
   "language": "python",
   "name": "python3"
  },
  "language_info": {
   "codemirror_mode": {
    "name": "ipython",
    "version": 3
   },
   "file_extension": ".py",
   "mimetype": "text/x-python",
   "name": "python",
   "nbconvert_exporter": "python",
   "pygments_lexer": "ipython3",
   "version": "3.8.5"
  }
 },
 "nbformat": 4,
 "nbformat_minor": 4
}
